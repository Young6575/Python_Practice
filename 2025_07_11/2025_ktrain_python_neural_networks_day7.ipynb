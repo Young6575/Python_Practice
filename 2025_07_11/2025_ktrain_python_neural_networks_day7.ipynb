{
  "cells": [
    {
      "cell_type": "markdown",
      "metadata": {
        "id": "qPv8IBAbQisv"
      },
      "source": [
        "## 실습 문제: He 가중치 초기화 시뮬레이션\n",
        "\n",
        "**설명**: 딥러닝에서 신경망의 가중치는 학습 시작 전에 무작위로 초기화됩니다. He 초기화는 ReLU 활성화 함수에 적합한 방법으로, 가중치를 평균 0, 표준편차 $\\sqrt{2 / \\text{입력 뉴런 수}}$의 정규 분포로 설정합니다. `np.random.normal()`을 사용해 He 초기화를 시뮬레이션하고, 가중치 분포를 Matplotlib으로 히스토그램으로 시각화해보세요.\n",
        "\n",
        "$$\\text{weight} \\sim \\mathcal{N}(0, \\sqrt{2/n_{in}})$$\n",
        "\n",
        "**요구사항**:\n",
        "\n",
        "  - 입력 뉴런 수(`fan_in`)를 1000으로 설정하고, He 초기화 원칙에 따라 1000개의 가중치를 생성하세요. 표준편차는 $\\sqrt{2 / \\text{입력 뉴런 수}}$ 로 계산합니다. (`np.random.normal` 함수를 사용하세요.)\n",
        "  - 생성된 1000개의 가중치를 Matplotlib을 사용하여 히스토그램으로 시각화하고, 그래프의 제목을 \"He Initialization Weights\"로 설정하세요.\n",
        "  - 생성된 히스토그램이 평균 0을 중심으로 대칭적인 종 모양을 갖는지 확인하고, 가중치 분포의 특성을 파악하세요."
      ]
    },
    {
      "cell_type": "code",
      "execution_count": 3,
      "metadata": {},
      "outputs": [
        {
          "data": {
            "text/plain": [
              "(array([ 22.,  68., 134., 217., 245., 182.,  82.,  40.,   9.,   1.]),\n",
              " array([-0.1198066 , -0.0917947 , -0.0637828 , -0.0357709 , -0.00775899,\n",
              "         0.02025291,  0.04826481,  0.07627671,  0.10428861,  0.13230052,\n",
              "         0.16031242]),\n",
              " <BarContainer object of 10 artists>)"
            ]
          },
          "execution_count": 3,
          "metadata": {},
          "output_type": "execute_result"
        },
        {
          "data": {
            "image/png": "[encoded data removed]",
            "text/plain": [
              "<Figure size 640x480 with 1 Axes>"
            ]
          },
          "metadata": {},
          "output_type": "display_data"
        }
      ],
      "source": [
        "import numpy as np\n",
        "import matplotlib.pyplot as plt\n",
        "\n",
        "rs = np.random.normal(0,np.sqrt(2/1000), 1000)\n",
        "\n",
        "plt.hist(rs)"
      ]
    },
    {
      "cell_type": "code",
      "execution_count": 6,
      "metadata": {
        "id": "U-RdDxIAQj_g"
      },
      "outputs": [
        {
          "data": {
            "image/png": "[encoded data removed]",
            "text/plain": [
              "<Figure size 640x480 with 1 Axes>"
            ]
          },
          "metadata": {},
          "output_type": "display_data"
        }
      ],
      "source": [
        "import numpy as np\n",
        "import matplotlib.pyplot as plt\n",
        "\n",
        "def he_init(fan_in: int) -> None:\n",
        "    \"\"\"\n",
        "    He 초기화에 따라 가중치를 생성하고 히스토그램으로 시각화합니다.\n",
        "    \n",
        "    \n",
        "    Args:\n",
        "        fan_in (int): 입력 뉴런의 수.\n",
        "    \"\"\"\n",
        "    weights = np.random.normal(0,np.sqrt(2/fan_in), fan_in)\n",
        "\n",
        "    grah = plt.hist(weights)\n",
        "\n",
        "\n",
        "    \n",
        "\n",
        "\n",
        "he_init(1000)\n"
      ]
    },
    {
      "cell_type": "markdown",
      "metadata": {
        "id": "lEk47sxI512_"
      },
      "source": [
        "## 실습 문제: 소프트맥스 함수 계산 및 시각화\n",
        "\n",
        "**설명**:\n",
        "소프트맥스(Softmax) 함수는 인공지능 모델이 출력하는 점수(score 또는 logit)를 각 클래스에 대한 확률 분포로 변환하는 핵심적인 요소입니다. 예를 들어, 모델이 어떤 이미지에 대해 [강아지 점수=3, 고양이 점수=1]이라는 결과를 냈다면, 소프트맥스는 이를 [강아지일 확률=0.88, 고양이일 확률=0.12]와 같이 변환하여 모든 클래스의 확률 총합이 1이 되도록 만듭니다.\n",
        "\n",
        "이 실습에서는 '고양이' 점수를 고정한 채 '강아지' 점수를 변화시키면서, 점수 변화에 따른 '강아지'일 확률의 변화를 계산하고 그래프로 시각화하여 소프트맥스 함수의 특징을 직관적으로 이해해 봅니다.\n",
        "\n",
        "$$\\text{softmax}(z)_{i} = \\frac{e^{z_i}}{\\sum_{j=1}^{K} e^{z_j}}$$\n",
        "\n",
        "**요구사항**:\n",
        "\n",
        "1.  **입력 설정**: '강아지' 점수 `z_dog`를 `np.linspace(-5, 5, 100)`를 사용해 생성하고, '고양이' 점수 `z_cat`는 `1.0`으로 고정하세요.\n",
        "2.  **함수 구현**: `softmax` 함수를 구현하여, 입력된 점수 배열 `z = [z_dog, z_cat]`에 대한 각 클래스의 확률을 계산하도록 만드세요. `np.exp()`를 사용하면 됩니다.\n",
        "3.  **확률 계산**: `z_dog`의 각 점수에 대해 `softmax` 함수를 호출하여 '강아지일 확률'을 계산하고, 그 결과를 별도의 리스트에 저장하세요.\n",
        "4.  **결과 시각화**: Matplotlib을 사용하여 x축은 '강아지 점수(`z_dog`)', y축은 '강아지일 확률'로 설정하여 2D 라인 그래프를 그리세요. 그래프의 제목과 축 레이블을 추가하여 결과를 명확하게 나타냅니다.\n"
      ]
    },
    {
      "cell_type": "code",
      "execution_count": null,
      "metadata": {},
      "outputs": [],
      "source": [
        "logits = [3,1]\n",
        "\n",
        "np.exp()"
      ]
    },
    {
      "cell_type": "code",
      "execution_count": 19,
      "metadata": {},
      "outputs": [
        {
          "data": {
            "text/plain": [
              "array([20.08553692,  2.71828183])"
            ]
          },
          "execution_count": 19,
          "metadata": {},
          "output_type": "execute_result"
        }
      ],
      "source": [
        "logits = np.array([3,1])\n",
        "\n",
        "np.exp(logits)"
      ]
    },
    {
      "cell_type": "code",
      "execution_count": 25,
      "metadata": {},
      "outputs": [
        {
          "data": {
            "text/plain": [
              "np.float64(22.803818751646713)"
            ]
          },
          "execution_count": 25,
          "metadata": {},
          "output_type": "execute_result"
        }
      ],
      "source": [
        "np.sum(np.exp(logits))"
      ]
    },
    {
      "cell_type": "code",
      "execution_count": 21,
      "metadata": {},
      "outputs": [
        {
          "data": {
            "text/plain": [
              "array([0.88079708, 0.11920292])"
            ]
          },
          "execution_count": 21,
          "metadata": {},
          "output_type": "execute_result"
        }
      ],
      "source": [
        "np.exp(logits) / np.sum(np.exp(logits))"
      ]
    },
    {
      "cell_type": "code",
      "execution_count": 22,
      "metadata": {},
      "outputs": [
        {
          "data": {
            "text/plain": [
              "np.float64(1.0)"
            ]
          },
          "execution_count": 22,
          "metadata": {},
          "output_type": "execute_result"
        }
      ],
      "source": [
        "np.sum(np.exp(logits) / np.sum(np.exp(logits)))"
      ]
    },
    {
      "cell_type": "code",
      "execution_count": null,
      "metadata": {},
      "outputs": [
        {
          "data": {
            "text/plain": [
              "(array([77.,  7.,  4.,  2.,  3.,  1.,  2.,  1.,  1.,  2.]),\n",
              " array([6.73794700e-03, 1.48473801e+01, 2.96880222e+01, 4.45286643e+01,\n",
              "        5.93693064e+01, 7.42099485e+01, 8.90505906e+01, 1.03891233e+02,\n",
              "        1.18731875e+02, 1.33572517e+02, 1.48413159e+02]),\n",
              " <BarContainer object of 10 artists>)"
            ]
          },
          "execution_count": 9,
          "metadata": {},
          "output_type": "execute_result"
        },
        {
          "data": {
            "image/png": "[encoded data removed]",
            "text/plain": [
              "<Figure size 640x480 with 1 Axes>"
            ]
          },
          "metadata": {},
          "output_type": "display_data"
        }
      ],
      "source": [
        "z_dog = np.linspace(-5, 5, 100)\n",
        "z_cat = 1.0\n",
        "\n",
        "\n",
        "plt.hist(np.exp(z_dog))"
      ]
    },
    {
      "cell_type": "code",
      "execution_count": 23,
      "metadata": {
        "id": "SuHNuS_G58mF"
      },
      "outputs": [],
      "source": [
        "import numpy as np\n",
        "import matplotlib.pyplot as plt\n",
        "\n",
        "def softmax(logits: np.ndarray) -> np.ndarray:\n",
        "    \"\"\"\n",
        "    입력된 로짓 배열에 대해 소프트맥스 확률을 계산합니다.\n",
        "    \n",
        "    Args:\n",
        "        logits (np.ndarray): 모델의 원시 점수 배열.\n",
        "\n",
        "    Returns:\n",
        "        np.ndarray: 각 클래스에 대한 확률 배열.\n",
        "    \"\"\"\n",
        "    e = np.exp*logits\n",
        "    s = np.sum(e)\n",
        "    return e / s\n",
        "\n",
        "    pass\n",
        "\n",
        "\n",
        "\n"
      ]
    },
    {
      "cell_type": "code",
      "execution_count": null,
      "metadata": {},
      "outputs": [],
      "source": []
    },
    {
      "cell_type": "code",
      "execution_count": null,
      "metadata": {
        "id": "Z21-cwPtKe80"
      },
      "outputs": [],
      "source": [
        "\n",
        "z_dog_scores = np.linspace(-5, 5, 100)\n",
        "z_cat_score = np.ones(100)\n",
        "logits = np.array(list(zip(z_dog_scores,z_cat_score)))\n",
        "logits.shape\n",
        "\n",
        "dog_prob = []"
      ]
    },
    {
      "cell_type": "markdown",
      "metadata": {
        "id": "KMxrhwEx6e8O"
      },
      "source": [
        "## 실습 문제: ReLU 함수 구현 및 시각화\n",
        "\n",
        "**설명**:\n",
        "ReLU(Rectified Linear Unit) 함수, $f(x) = \\max(0, x)$는 딥러닝에서 가장 널리 사용되는 활성화 함수 중 하나입니다. 입력값이 0보다 작으면 0을 반환하고, 0 이상이면 입력값을 그대로 반환하는 단순한 구조 덕분에 계산이 빠르고, 특정 조건에서 학습을 효율적으로 만듭니다. 이 실습에서는 NumPy와 Matplotlib을 사용하여 ReLU 함수의 동작을 직접 구현하고 그래프로 그려보겠습니다.\n",
        "\n",
        "$$f(x) = \\max(0, x)$$\n",
        "\n",
        "**요구사항**:\n",
        "\n",
        "  * `np.linspace()`를 사용하여 **x**의 범위를 -5부터 5까지 100개의 균일한 간격으로 생성하세요.\n",
        "  * x의 각 원소에 ReLU 함수를 적용한 **y** 값을 계산하세요.\n",
        "  * Matplotlib을 사용하여 **x**와 **y**를 기반으로 2D 라인 그래프를 그리세요.\n",
        "  * 그래프의 제목은 \"ReLU Function\", x축 레이블은 \"x\", y축 레이블은 \"f(x)\"로 설정하고, 그리드를 추가하여 가독성을 높이세요.\n"
      ]
    },
    {
      "cell_type": "code",
      "execution_count": 15,
      "metadata": {},
      "outputs": [
        {
          "data": {
            "text/plain": [
              "(array([ 4.,  5.,  3., 15.,  9.,  5.,  6.,  1.,  1.,  1.]),\n",
              " array([-1.70113787, -1.26001993, -0.81890199, -0.37778405,  0.0633339 ,\n",
              "         0.50445184,  0.94556978,  1.38668772,  1.82780566,  2.2689236 ,\n",
              "         2.71004155]),\n",
              " <BarContainer object of 10 artists>)"
            ]
          },
          "execution_count": 15,
          "metadata": {},
          "output_type": "execute_result"
        },
        {
          "data": {
            "image/png": "[encoded data removed]",
            "text/plain": [
              "<Figure size 640x480 with 1 Axes>"
            ]
          },
          "metadata": {},
          "output_type": "display_data"
        }
      ],
      "source": [
        "data = np.random.normal(0,1,50)\n",
        "\n",
        "plt.hist(data)"
      ]
    },
    {
      "cell_type": "code",
      "execution_count": 16,
      "metadata": {
        "id": "7wta_ZSv6jA8"
      },
      "outputs": [],
      "source": [
        "import numpy as np\n",
        "import matplotlib.pyplot as plt\n",
        "\n",
        "def relu(x: np.ndarray) -> np.ndarray:\n",
        "    \"\"\"\n",
        "    입력된 배열의 각 원소에 ReLU 함수를 적용합니다.\n",
        "\n",
        "    Args:\n",
        "        x (np.ndarray): 숫자들로 이루어진 NumPy 배열.\n",
        "\n",
        "    Returns:\n",
        "        np.ndarray: ReLU 함수가 적용된 결과 배열.\n",
        "    \"\"\"\n",
        "    return np.maximum(0, x)\n",
        "    \n"
      ]
    },
    {
      "cell_type": "code",
      "execution_count": 18,
      "metadata": {
        "id": "srGjZHf76puL"
      },
      "outputs": [
        {
          "data": {
            "text/plain": [
              "[<matplotlib.lines.Line2D at 0x1f75e436070>]"
            ]
          },
          "execution_count": 18,
          "metadata": {},
          "output_type": "execute_result"
        },
        {
          "data": {
            "image/png": "[encoded data removed]",
            "text/plain": [
              "<Figure size 640x480 with 1 Axes>"
            ]
          },
          "metadata": {},
          "output_type": "display_data"
        }
      ],
      "source": [
        "\n",
        "x_values = np.linspace(-5, 5, 100)\n",
        "y_values = relu(x_values)\n",
        "\n",
        "plt.plot(x_values, y_values)\n"
      ]
    },
    {
      "cell_type": "markdown",
      "metadata": {
        "id": "Zq0Nz7Bv7BsH"
      },
      "source": [
        "## 실습 문제: 시그모이드 함수 구현 및 시각화\n",
        "\n",
        "**설명**:\n",
        "시그모이드(Sigmoid) 함수는 로지스틱 함수라고도 불리며, 임의의 실수 입력값을 **0과 1 사이의 값으로 변환**하는 데 사용됩니다. 과거에는 인공 신경망의 활성화 함수나 로지스틱 회귀와 같은 모델에서 출력을 확률처럼 해석하기 위해 널리 사용되었습니다. 함수의 출력이 부드러운 **'S'자 형태**를 띠는 것이 특징입니다. 이 실습을 통해 시그모이드 함수를 직접 구현하고 그래프로 그려보겠습니다.\n",
        "\n",
        "$$S(x) = \\frac{1}{1 + e^{-x}}$$\n",
        "\n",
        "**요구사항**:\n",
        "\n",
        "  * `np.linspace()`를 사용하여 **x**의 범위를 -10부터 10까지 100개의 균일한 간격으로 생성하세요.\n",
        "  * 위 수학 공식을 바탕으로, 입력 `x`에 대한 시그모이드 함수 값을 계산하는 `sigmoid_function`을 구현하세요. `np.exp()` 함수를 사용합니다.\n",
        "  * Matplotlib을 사용하여 x값에 따른 시그모이드 함수 값을 라인 그래프로 그리세요. 그래프의 제목은 \"Sigmoid Function\", x축 레이블은 \"x\", y축 레이블은 \"S(x)\"로 설정합니다.\n",
        "  * 그래프의 **y=0.5** 지점에 수평선(`axhline`)을 점선으로 추가하여, 입력이 0일 때 출력이 0.5가 되는 시그모이드 함수의 중심점을 시각적으로 확인하세요.\n",
        "\n",
        "## MSE 함수"
      ]
    },
    {
      "cell_type": "code",
      "execution_count": 11,
      "metadata": {
        "id": "ZrEsNc_jKpOR"
      },
      "outputs": [],
      "source": [
        "import numpy as np\n",
        "import matplotlib.pyplot as plt\n",
        "\n",
        "def sigmoid(x: np.ndarray) -> np.ndarray:\n",
        "    \"\"\"\n",
        "    입력된 배열의 각 원소에 시그모이드 함수를 적용합니다.\n",
        "\n",
        "    Args:\n",
        "        x (np.ndarray): 숫자들로 이루어진 NumPy 배열.\n",
        "\n",
        "    Returns:\n",
        "        np.ndarray: 시그모이드 함수가 적용된 결과 배열.\n",
        "    \"\"\"\n",
        "    return 1 / (1 + np.exp(-x))\n",
        "\n",
        "\n",
        "    \n"
      ]
    },
    {
      "cell_type": "code",
      "execution_count": 14,
      "metadata": {
        "id": "a3HB-7SYKsRS"
      },
      "outputs": [
        {
          "data": {
            "text/plain": [
              "[<matplotlib.lines.Line2D at 0x1f75e329160>]"
            ]
          },
          "execution_count": 14,
          "metadata": {},
          "output_type": "execute_result"
        },
        {
          "data": {
            "image/png": "[encoded data removed]",
            "text/plain": [
              "<Figure size 640x480 with 1 Axes>"
            ]
          },
          "metadata": {},
          "output_type": "display_data"
        }
      ],
      "source": [
        "x_values = np.linspace(-10, 10, 100)\n",
        "y_values = sigmoid(x_values)\n",
        "\n",
        "plt.plot(x_values,y_values)"
      ]
    },
    {
      "cell_type": "code",
      "execution_count": null,
      "metadata": {},
      "outputs": [],
      "source": []
    }
  ],
  "metadata": {
    "colab": {
      "provenance": []
    },
    "kernelspec": {
      "display_name": "Python 3",
      "name": "python3"
    },
    "language_info": {
      "codemirror_mode": {
        "name": "ipython",
        "version": 3
      },
      "file_extension": ".py",
      "mimetype": "text/x-python",
      "name": "python",
      "nbconvert_exporter": "python",
      "pygments_lexer": "ipython3",
      "version": "3.9.13"
    }
  },
  "nbformat": 4,
  "nbformat_minor": 0
}
