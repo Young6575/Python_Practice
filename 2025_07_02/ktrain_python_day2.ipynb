{
  "cells": [
    {
      "cell_type": "markdown",
      "metadata": {
        "id": "VxRSbT3kVF0f"
      },
      "source": [
        "## 7. 10개의 음이 아닌 정수가 주어지면, 각 정수를 N로 나눈 나머지를 구한 뒤, 이 나머지들 중 서로 다른 값이 몇 개 있는지 계산하는 프로그램을 작성하세요.\n",
        "\n",
        "## 입력\n",
        "첫 번째 입력은 나누는 수 N이 주어집니다.\n",
        "다음 줄은 정수 10개가 주어집니다. 주어진 정수에는 음의 정수는 포함되지 않습니다.\n",
        "\n",
        "## 출력\n",
        "10개의 입력된 정수를 N로 나눈 나머지들 중 서로 다른 값의 개수를 출력하세요."
      ]
    },
    {
      "cell_type": "code",
      "execution_count": 8,
      "metadata": {
        "id": "d5nfvg6qWawn"
      },
      "outputs": [],
      "source": [
        "def count_distinct_remainders(N: int, numbers: list) -> int:\n",
        "        result= []\n",
        "        \n",
        "        for i in numbers:\n",
        "            remain = i%N\n",
        "            if remain not in result :\n",
        "                result.append(remain)\n",
        "        return len(result)\n",
        "\n",
        "input_data_remainders = [\n",
        "    (27, [1, 2, 3, 4, 5, 6, 7, 8, 9, 10]),\n",
        "    (36, [42, 84, 126, 168, 210, 252, 294, 336, 378, 420]),\n",
        "    (7, [39, 40, 41, 42, 43, 44, 82, 83, 84, 85]),\n",
        "    (33, [10, 20, 30, 40, 50, 60, 70, 80, 90, 100]),\n",
        "    (1, [1, 2, 3, 4, 5, 6, 7, 8, 9, 10]),\n",
        "]\n",
        "\n",
        "output_data_remainders = [\n",
        "    10, 6, 6, 10, 1,\n",
        "]\n",
        "\n",
        "for (N, numbers), expected_output in zip(input_data_remainders, output_data_remainders):\n",
        "    result = count_distinct_remainders(N, numbers)\n",
        "    assert result == expected_output, f\"Failed: N={N}, numbers={numbers}, expected={expected_output}, got={result}\"\n",
        "    #print(result)"
      ]
    },
    {
      "cell_type": "code",
      "execution_count": 26,
      "metadata": {},
      "outputs": [
        {
          "data": {
            "text/plain": [
              "6"
            ]
          },
          "execution_count": 26,
          "metadata": {},
          "output_type": "execute_result"
        }
      ],
      "source": [
        "N =36\n",
        "numbers =[42, 84, 126, 168, 210, 252, 294, 336, 378, 420]\n",
        "\n",
        "result=[]\n",
        "for i in numbers:\n",
        "    result.append(i%N)\n",
        "\n",
        "len(set(result))    "
      ]
    },
    {
      "cell_type": "markdown",
      "metadata": {
        "id": "7Zd7ozngX2XA"
      },
      "source": [
        "# 8. N개의 원소가 있는 리스트가 있으며, 왼쪽부터 1번부터 N번까지 번호가 매겨져 있습니다. 주어진 M개의 연산을 수행해야 하며, 각 연산은 지정된 구간 [i, j]의 리스트 원소의 순서를 역순으로 뒤집습니다. 모든 연산을 수행한 후, 리스트의 최종 순서를 출력하세요."
      ]
    },
    {
      "cell_type": "code",
      "execution_count": 20,
      "metadata": {
        "id": "4X8Iv0zLYWbZ"
      },
      "outputs": [],
      "source": [
        "def reverse_baskets(N: int, operations: list) -> list:\n",
        "        a = list(range(1,N+1))\n",
        "        for i,j in operations:\n",
        "              a[i:j+1] = a[i:j+1][::-1]\n",
        "\n",
        "        return a\n",
        "\n",
        "\n",
        "input_data_baskets = [\n",
        "    (5, [[0, 1], [2, 3], [0, 3], [1, 1]]),\n",
        "    (4, [[0, 3], [1, 2]]),\n",
        "    (3, []),\n",
        "    (6, [[0, 5]]),\n",
        "    (5, [[1, 3], [2, 4], [0, 2]]),\n",
        "]\n",
        "\n",
        "output_data_baskets = [\n",
        "    [3, 4, 1, 2, 5],\n",
        "    [4, 2, 3, 1],\n",
        "    [1, 2, 3],\n",
        "    [6, 5, 4, 3, 2, 1],\n",
        "    [5, 4, 1, 2, 3],\n",
        "]\n",
        "\n",
        "for (N, operations), expected_output in zip(input_data_baskets, output_data_baskets):\n",
        "    result = reverse_baskets(N, operations)\n",
        "    assert result == expected_output, f\"Failed: N={N}, operations={operations}, expected={expected_output}, got={result}\"\n",
        "    #print(result)"
      ]
    },
    {
      "cell_type": "code",
      "execution_count": null,
      "metadata": {},
      "outputs": [],
      "source": []
    },
    {
      "cell_type": "code",
      "execution_count": 50,
      "metadata": {},
      "outputs": [
        {
          "data": {
            "text/plain": [
              "[1, 2, 3, 4, 5]"
            ]
          },
          "execution_count": 50,
          "metadata": {},
          "output_type": "execute_result"
        }
      ],
      "source": [
        "lst = [1,2,3,4,5]\n",
        "lst2 =lst[:]\n",
        "lst2[1:4].reverse()\n",
        "lst2"
      ]
    },
    {
      "cell_type": "markdown",
      "metadata": {
        "id": "PwJgl2kMZFYv"
      },
      "source": [
        "# 9. 2차원 평면 위에 N개의 점이 주어집니다. 점들을 x좌표가 증가하는 순으로 정렬하고, x좌표가 같다면 y좌표가 증가하는 순으로 정렬한 후 출력하세요."
      ]
    },
    {
      "cell_type": "code",
      "execution_count": 30,
      "metadata": {
        "id": "ZbBGU2AtZLMS"
      },
      "outputs": [
        {
          "name": "stdout",
          "output_type": "stream",
          "text": [
            "[(1, -1), (1, 1), (2, 2), (3, 3), (3, 4)]\n",
            "[(1, 2), (2, -1), (2, 1)]\n",
            "[(1, -1), (1, 1)]\n",
            "[(-1, -2), (-1, 2), (0, 0), (2, 0)]\n",
            "[(5, 5)]\n"
          ]
        }
      ],
      "source": [
        "def sort_points(N: int, points: list) -> list:\n",
        "    \n",
        "    return sorted(points, key=lambda x:(x[0], x[1]))\n",
        "\n",
        "input_data_points = [\n",
        "    (5, [(3, 4), (1, 1), (1, -1), (2, 2), (3, 3)]),\n",
        "    (3, [(2, 1), (1, 2), (2, -1)]),\n",
        "    (2, [(1, 1), (1, -1)]),\n",
        "    (4, [(0, 0), (-1, 2), (-1, -2), (2, 0)]),\n",
        "    (1, [(5, 5)]),\n",
        "]\n",
        "\n",
        "output_data_points = [\n",
        "    [(1, -1), (1, 1), (2, 2), (3, 3), (3, 4)],\n",
        "    [(1, 2), (2, -1), (2, 1)],\n",
        "    [(1, -1), (1, 1)],\n",
        "    [(-1, -2), (-1, 2), (0, 0), (2, 0)],\n",
        "    [(5, 5)],\n",
        "]\n",
        "\n",
        "for (N, points), expected_output in zip(input_data_points, output_data_points):\n",
        "    result = sort_points(N, points)\n",
        "    #assert result == expected_output, f\"Failed: N={N}, points={points}, expected={expected_output}, got={result}\"\n",
        "    print(result)"
      ]
    },
    {
      "cell_type": "markdown",
      "metadata": {
        "id": "GrrUQi3JZuRW"
      },
      "source": [
        "# 10. N개의 단어가 주어졌을 때, 다음 조건에 따라 단어를 정렬하는 프로그램을 작성하시오.\n",
        "\n",
        "* 길이가 짧은 순으로 정렬\n",
        "* 길이가 같으면 사전순(알파벳 순)으로 정렬\n",
        "* 중복된 단어는 하나만 남기고 제거"
      ]
    },
    {
      "cell_type": "code",
      "execution_count": 68,
      "metadata": {
        "id": "N4lRWZB1Z3o5"
      },
      "outputs": [
        {
          "ename": "IndexError",
          "evalue": "list index out of range",
          "output_type": "error",
          "traceback": [
            "\u001b[1;31m---------------------------------------------------------------------------\u001b[0m",
            "\u001b[1;31mIndexError\u001b[0m                                Traceback (most recent call last)",
            "Cell \u001b[1;32mIn[68], line 31\u001b[0m\n\u001b[0;32m     22\u001b[0m output_data_words \u001b[38;5;241m=\u001b[39m [\n\u001b[0;32m     23\u001b[0m     [\u001b[38;5;124m\"\u001b[39m\u001b[38;5;124mi\u001b[39m\u001b[38;5;124m\"\u001b[39m, \u001b[38;5;124m\"\u001b[39m\u001b[38;5;124mim\u001b[39m\u001b[38;5;124m\"\u001b[39m, \u001b[38;5;124m\"\u001b[39m\u001b[38;5;124mit\u001b[39m\u001b[38;5;124m\"\u001b[39m, \u001b[38;5;124m\"\u001b[39m\u001b[38;5;124mno\u001b[39m\u001b[38;5;124m\"\u001b[39m, \u001b[38;5;124m\"\u001b[39m\u001b[38;5;124mbut\u001b[39m\u001b[38;5;124m\"\u001b[39m, \u001b[38;5;124m\"\u001b[39m\u001b[38;5;124mmore\u001b[39m\u001b[38;5;124m\"\u001b[39m, \u001b[38;5;124m\"\u001b[39m\u001b[38;5;124mwait\u001b[39m\u001b[38;5;124m\"\u001b[39m, \u001b[38;5;124m\"\u001b[39m\u001b[38;5;124mwont\u001b[39m\u001b[38;5;124m\"\u001b[39m, \u001b[38;5;124m\"\u001b[39m\u001b[38;5;124myours\u001b[39m\u001b[38;5;124m\"\u001b[39m, \u001b[38;5;124m\"\u001b[39m\u001b[38;5;124mcannot\u001b[39m\u001b[38;5;124m\"\u001b[39m, \u001b[38;5;124m\"\u001b[39m\u001b[38;5;124mhesitate\u001b[39m\u001b[38;5;124m\"\u001b[39m],\n\u001b[0;32m     24\u001b[0m     [\u001b[38;5;124m\"\u001b[39m\u001b[38;5;124mapp\u001b[39m\u001b[38;5;124m\"\u001b[39m, \u001b[38;5;124m\"\u001b[39m\u001b[38;5;124mbat\u001b[39m\u001b[38;5;124m\"\u001b[39m, \u001b[38;5;124m\"\u001b[39m\u001b[38;5;124mapple\u001b[39m\u001b[38;5;124m\"\u001b[39m, \u001b[38;5;124m\"\u001b[39m\u001b[38;5;124mbanana\u001b[39m\u001b[38;5;124m\"\u001b[39m],\n\u001b[1;32m   (...)\u001b[0m\n\u001b[0;32m     27\u001b[0m     [\u001b[38;5;124m\"\u001b[39m\u001b[38;5;124mtest\u001b[39m\u001b[38;5;124m\"\u001b[39m],\n\u001b[0;32m     28\u001b[0m ]\n\u001b[0;32m     30\u001b[0m \u001b[38;5;28;01mfor\u001b[39;00m (N, words), expected_output \u001b[38;5;129;01min\u001b[39;00m \u001b[38;5;28mzip\u001b[39m(input_data_words, output_data_words):\n\u001b[1;32m---> 31\u001b[0m     result \u001b[38;5;241m=\u001b[39m \u001b[43msort_words\u001b[49m\u001b[43m(\u001b[49m\u001b[43mN\u001b[49m\u001b[43m,\u001b[49m\u001b[43m \u001b[49m\u001b[43mwords\u001b[49m\u001b[43m)\u001b[49m\n\u001b[0;32m     32\u001b[0m     \u001b[38;5;28;01massert\u001b[39;00m result \u001b[38;5;241m==\u001b[39m expected_output, \u001b[38;5;124mf\u001b[39m\u001b[38;5;124m\"\u001b[39m\u001b[38;5;124mFailed: N=\u001b[39m\u001b[38;5;132;01m{\u001b[39;00mN\u001b[38;5;132;01m}\u001b[39;00m\u001b[38;5;124m, words=\u001b[39m\u001b[38;5;132;01m{\u001b[39;00mwords\u001b[38;5;132;01m}\u001b[39;00m\u001b[38;5;124m, expected=\u001b[39m\u001b[38;5;132;01m{\u001b[39;00mexpected_output\u001b[38;5;132;01m}\u001b[39;00m\u001b[38;5;124m, got=\u001b[39m\u001b[38;5;132;01m{\u001b[39;00mresult\u001b[38;5;132;01m}\u001b[39;00m\u001b[38;5;124m\"\u001b[39m\n",
            "Cell \u001b[1;32mIn[68], line 5\u001b[0m, in \u001b[0;36msort_words\u001b[1;34m(N, words)\u001b[0m\n\u001b[0;32m      2\u001b[0m result \u001b[38;5;241m=\u001b[39m []\n\u001b[0;32m      3\u001b[0m \u001b[38;5;28;01mfor\u001b[39;00m i \u001b[38;5;129;01min\u001b[39;00m words:\n\u001b[1;32m----> 5\u001b[0m     \u001b[38;5;28;01mif\u001b[39;00m (i \u001b[38;5;129;01mnot\u001b[39;00m \u001b[38;5;129;01min\u001b[39;00m \u001b[43mresult\u001b[49m\u001b[43m[\u001b[49m\u001b[38;5;241;43m1\u001b[39;49m\u001b[43m]\u001b[49m):\n\u001b[0;32m      6\u001b[0m         l \u001b[38;5;241m=\u001b[39m \u001b[38;5;28mlen\u001b[39m(i)\n\u001b[0;32m      7\u001b[0m         result\u001b[38;5;241m.\u001b[39mappend((l,i))\n",
            "\u001b[1;31mIndexError\u001b[0m: list index out of range"
          ]
        }
      ],
      "source": [
        "def sort_words(N: int, words: list) -> list:\n",
        "    result = []\n",
        "    for i in words:\n",
        "\n",
        "        if (i not in result[1]):\n",
        "            l = len(i)\n",
        "            result.append((l,i))\n",
        "            result = sorted(result)\n",
        "\n",
        "    return [item[1] for item in result] \n",
        "\n",
        "    \n",
        "\n",
        "input_data_words = [\n",
        "    (13, [\"but\", \"i\", \"wont\", \"hesitate\", \"no\", \"more\", \"no\", \"more\", \"it\", \"cannot\", \"wait\", \"im\", \"yours\"]),  # 예제 입력\n",
        "    (5, [\"apple\", \"app\", \"apple\", \"banana\", \"bat\"]),\n",
        "    (3, [\"cat\", \"dog\", \"ant\"]),\n",
        "    (2, [\"a\", \"aa\"]),\n",
        "    (1, [\"test\"]),\n",
        "]\n",
        "\n",
        "output_data_words = [\n",
        "    [\"i\", \"im\", \"it\", \"no\", \"but\", \"more\", \"wait\", \"wont\", \"yours\", \"cannot\", \"hesitate\"],\n",
        "    [\"app\", \"bat\", \"apple\", \"banana\"],\n",
        "    [\"ant\", \"cat\", \"dog\"],\n",
        "    [\"a\", \"aa\"],\n",
        "    [\"test\"],\n",
        "]\n",
        "\n",
        "for (N, words), expected_output in zip(input_data_words, output_data_words):\n",
        "    result = sort_words(N, words)\n",
        "    assert result == expected_output, f\"Failed: N={N}, words={words}, expected={expected_output}, got={result}\""
      ]
    },
    {
      "cell_type": "code",
      "execution_count": 69,
      "metadata": {},
      "outputs": [
        {
          "ename": "IndexError",
          "evalue": "list index out of range",
          "output_type": "error",
          "traceback": [
            "\u001b[1;31m---------------------------------------------------------------------------\u001b[0m",
            "\u001b[1;31mIndexError\u001b[0m                                Traceback (most recent call last)",
            "Cell \u001b[1;32mIn[69], line 4\u001b[0m\n\u001b[0;32m      2\u001b[0m result \u001b[38;5;241m=\u001b[39m []\n\u001b[0;32m      3\u001b[0m \u001b[38;5;28;01mfor\u001b[39;00m i \u001b[38;5;129;01min\u001b[39;00m words:\n\u001b[1;32m----> 4\u001b[0m     \u001b[38;5;28;01mif\u001b[39;00m (i \u001b[38;5;129;01mnot\u001b[39;00m \u001b[38;5;129;01min\u001b[39;00m \u001b[43mresult\u001b[49m\u001b[43m[\u001b[49m\u001b[38;5;241;43m1\u001b[39;49m\u001b[43m]\u001b[49m):\n\u001b[0;32m      5\u001b[0m             l \u001b[38;5;241m=\u001b[39m \u001b[38;5;28mlen\u001b[39m(i)\n\u001b[0;32m      6\u001b[0m             result\u001b[38;5;241m.\u001b[39mappend((l,i))\n",
            "\u001b[1;31mIndexError\u001b[0m: list index out of range"
          ]
        }
      ],
      "source": [
        "words = [\"but\", \"i\", \"wont\", \"hesitate\", \"no\", \"more\", \"no\", \"more\", \"it\", \"cannot\", \"wait\", \"im\", \"yours\"]\n",
        "result = []\n",
        "for i in words:\n",
        "    if (i not in result[1]):\n",
        "            l = len(i)\n",
        "            result.append((l,i))\n",
        "            result = sorted(result)\n",
        "\n",
        "print([item[1] for item in result])    "
      ]
    },
    {
      "cell_type": "markdown",
      "metadata": {
        "id": "yVHuXdvzL5gG"
      },
      "source": [
        "# 11. 다음의 메서드를 구현하세요:\n",
        "add_item(item: str) -> None: 쇼핑 리스트에 항목 추가.\n",
        "remove_item(item: str) -> None: 쇼핑 리스트에서 항목 제거.\n",
        "display_list() -> List[str]: 현재 쇼핑 리스트 반환. quit() -> None: 쇼핑 리스트 종료."
      ]
    },
    {
      "cell_type": "code",
      "execution_count": null,
      "metadata": {
        "id": "cdNE7M-IL99V"
      },
      "outputs": [],
      "source": [
        "from typing import List, Dict, Callable, Any\n",
        "\n",
        "items = []\n",
        "\n",
        "def add_item(item: str) -> None:\n",
        "  #implement your code\n",
        "  pass\n",
        "\n",
        "def remove_item(item: str) -> None:\n",
        "  #implement your code\n",
        "  pass\n",
        "\n",
        "def display_list(item: str) -> List[str]:\n",
        "  #implement your code\n",
        "  pass\n",
        "\n",
        "def quit(item: str) -> None:\n",
        "  #implement your code\n",
        "  pass\n"
      ]
    },
    {
      "cell_type": "code",
      "execution_count": null,
      "metadata": {
        "id": "yQ2rKbCqaTyV"
      },
      "outputs": [],
      "source": [
        "commands = {'add': add_item,\n",
        "            'remove': remove_item,\n",
        "            'display': display_list,\n",
        "            'exit': quit}\n",
        "\n",
        "input_data_shopping_list = [(\"add\", \"apple\"), (\"add\", \"banana\"),\n",
        "                            (\"add\", \"orange\"), (\"display\", ''),\n",
        "                            (\"remove\", \"banana\"), (\"display\", ''),\n",
        "                            (\"exit\", '')]\n",
        "\n",
        "output_data_shopping_list = [None, None,None,[\"apple\", \"banana\", \"orange\"], None,[\"apple\", \"orange\"],None]\n",
        "\n",
        "for (action, item), expected_output in zip(input_data_shopping_list, output_data_shopping_list):\n",
        "  assert commands[action](item) == expected_output"
      ]
    }
  ],
  "metadata": {
    "colab": {
      "provenance": []
    },
    "kernelspec": {
      "display_name": "Python 3",
      "name": "python3"
    },
    "language_info": {
      "codemirror_mode": {
        "name": "ipython",
        "version": 3
      },
      "file_extension": ".py",
      "mimetype": "text/x-python",
      "name": "python",
      "nbconvert_exporter": "python",
      "pygments_lexer": "ipython3",
      "version": "3.9.13"
    }
  },
  "nbformat": 4,
  "nbformat_minor": 0
}
