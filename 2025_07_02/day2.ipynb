{
 "cells": [
  {
   "cell_type": "code",
   "execution_count": 1,
   "id": "4ffe29ad",
   "metadata": {},
   "outputs": [
    {
     "data": {
      "text/plain": [
       "3"
      ]
     },
     "execution_count": 1,
     "metadata": {},
     "output_type": "execute_result"
    }
   ],
   "source": [
    "1+2"
   ]
  },
  {
   "cell_type": "code",
   "execution_count": 3,
   "id": "6dd94f02",
   "metadata": {},
   "outputs": [
    {
     "data": {
      "text/plain": [
       "[4, 9]"
      ]
     },
     "execution_count": 3,
     "metadata": {},
     "output_type": "execute_result"
    }
   ],
   "source": [
    "[i*i for i in range(2,4)]"
   ]
  },
  {
   "cell_type": "code",
   "execution_count": 4,
   "id": "591017d7",
   "metadata": {},
   "outputs": [
    {
     "data": {
      "text/plain": [
       "([], list)"
      ]
     },
     "execution_count": 4,
     "metadata": {},
     "output_type": "execute_result"
    }
   ],
   "source": [
    "a=[]\n",
    "a, type(a)"
   ]
  },
  {
   "cell_type": "code",
   "execution_count": 6,
   "id": "35c56181",
   "metadata": {},
   "outputs": [
    {
     "data": {
      "text/plain": [
       "({}, dict)"
      ]
     },
     "execution_count": 6,
     "metadata": {},
     "output_type": "execute_result"
    }
   ],
   "source": [
    "a = {}\n",
    "a, type(a)"
   ]
  },
  {
   "cell_type": "code",
   "execution_count": 8,
   "id": "7312c3b3",
   "metadata": {},
   "outputs": [
    {
     "name": "stdout",
     "output_type": "stream",
     "text": [
      "[1, 3.14, 'hello', 55, [1, 2, 3], (1, 2, 3)]\n"
     ]
    }
   ],
   "source": [
    "a = [1, 3.14, 'hello', sum(range(0,11)), [1,2,3], (1,2,3)]\n",
    "print(a)"
   ]
  },
  {
   "cell_type": "code",
   "execution_count": 9,
   "id": "954d6e3b",
   "metadata": {},
   "outputs": [
    {
     "name": "stdout",
     "output_type": "stream",
     "text": [
      "1\n",
      "3.14\n",
      "hello\n",
      "55\n",
      "[1, 2, 3]\n",
      "(1, 2, 3)\n"
     ]
    }
   ],
   "source": [
    "for i in a:\n",
    "    print(i)"
   ]
  },
  {
   "cell_type": "code",
   "execution_count": 16,
   "id": "e13b37ca",
   "metadata": {},
   "outputs": [],
   "source": [
    "a = [1,2,3,4,5,6,7]\n",
    "a.count(5)\n",
    "\n",
    "def find(lst, value)-> bool:\n",
    "    for i in lst:\n",
    "        if (i == value): return True\n",
    "    return False"
   ]
  },
  {
   "cell_type": "code",
   "execution_count": 17,
   "id": "c9e0a1aa",
   "metadata": {},
   "outputs": [
    {
     "data": {
      "text/plain": [
       "True"
      ]
     },
     "execution_count": 17,
     "metadata": {},
     "output_type": "execute_result"
    }
   ],
   "source": [
    "find(a,5)"
   ]
  },
  {
   "cell_type": "code",
   "execution_count": 1,
   "id": "93270b59",
   "metadata": {},
   "outputs": [
    {
     "data": {
      "text/plain": [
       "True"
      ]
     },
     "execution_count": 1,
     "metadata": {},
     "output_type": "execute_result"
    }
   ],
   "source": [
    "a = {}\n",
    "\n",
    "for i in range(100_000_000):\n",
    "    a[i] = True\n",
    "\n",
    "a[57_000_000]"
   ]
  },
  {
   "cell_type": "code",
   "execution_count": 2,
   "id": "5ae825f0",
   "metadata": {},
   "outputs": [
    {
     "data": {
      "text/plain": [
       "True"
      ]
     },
     "execution_count": 2,
     "metadata": {},
     "output_type": "execute_result"
    }
   ],
   "source": [
    "a[57_000_000]"
   ]
  },
  {
   "cell_type": "code",
   "execution_count": 3,
   "id": "14974e98",
   "metadata": {},
   "outputs": [
    {
     "data": {
      "text/plain": [
       "True"
      ]
     },
     "execution_count": 3,
     "metadata": {},
     "output_type": "execute_result"
    }
   ],
   "source": [
    "a = [1,2,3]\n",
    "\n",
    "3 in a"
   ]
  },
  {
   "cell_type": "code",
   "execution_count": 4,
   "id": "5e5faeed",
   "metadata": {},
   "outputs": [],
   "source": [
    "d = {\n",
    "    \"a\":5,\n",
    "    \"b\":15,\n",
    "    \"c\":30\n",
    "}"
   ]
  },
  {
   "cell_type": "code",
   "execution_count": 5,
   "id": "5bfc25cf",
   "metadata": {},
   "outputs": [
    {
     "data": {
      "text/plain": [
       "True"
      ]
     },
     "execution_count": 5,
     "metadata": {},
     "output_type": "execute_result"
    }
   ],
   "source": [
    "'c' in d"
   ]
  },
  {
   "cell_type": "code",
   "execution_count": 6,
   "id": "52f9daf2",
   "metadata": {},
   "outputs": [
    {
     "name": "stdout",
     "output_type": "stream",
     "text": [
      "a\n",
      "b\n",
      "c\n"
     ]
    }
   ],
   "source": [
    "for i in d:\n",
    "    print(i)"
   ]
  },
  {
   "cell_type": "code",
   "execution_count": 9,
   "id": "1d6c8de1",
   "metadata": {},
   "outputs": [
    {
     "name": "stdout",
     "output_type": "stream",
     "text": [
      "a 5\n",
      "b 15\n",
      "c 30\n"
     ]
    }
   ],
   "source": [
    "for k,v in d.items():\n",
    "    print(k,v)"
   ]
  },
  {
   "cell_type": "code",
   "execution_count": 14,
   "id": "92979e87",
   "metadata": {},
   "outputs": [
    {
     "data": {
      "text/plain": [
       "{'h': 1, 'e': 1, 'l': 3, 'o': 2, 'w': 1, 'r': 1, 'd': 1}"
      ]
     },
     "execution_count": 14,
     "metadata": {},
     "output_type": "execute_result"
    }
   ],
   "source": [
    "from string import ascii_letters\n",
    "\n",
    "s = 'hello, world!'\n",
    "def count_alpha(s)->dict:\n",
    "    result = {}\n",
    "    for i in s:\n",
    "        if i in ascii_letters:\n",
    "            result[i] = result.get(i,0) + 1\n",
    "    return result\n",
    "    \n",
    "count_alpha(s)    "
   ]
  },
  {
   "cell_type": "code",
   "execution_count": 16,
   "id": "62d6975a",
   "metadata": {},
   "outputs": [
    {
     "data": {
      "text/plain": [
       "{'d': 1, 'e': 1, 'h': 1, 'l': 3, 'o': 2, 'r': 1, 'w': 1}"
      ]
     },
     "execution_count": 16,
     "metadata": {},
     "output_type": "execute_result"
    }
   ],
   "source": [
    "d = {'h': 1, 'e': 1, 'l': 3, 'o': 2, 'w': 1, 'r': 1, 'd': 1}\n",
    "\n",
    "dict(sorted(d.items()))"
   ]
  },
  {
   "cell_type": "code",
   "execution_count": 19,
   "id": "ec001bb5",
   "metadata": {},
   "outputs": [
    {
     "data": {
      "text/plain": [
       "[('l', 3), ('o', 2), ('h', 1), ('e', 1), ('w', 1), ('r', 1), ('d', 1)]"
      ]
     },
     "execution_count": 19,
     "metadata": {},
     "output_type": "execute_result"
    }
   ],
   "source": [
    "sorted(d.items(), key=lambda x:x[1], reverse=True)"
   ]
  },
  {
   "cell_type": "code",
   "execution_count": null,
   "id": "f100da04",
   "metadata": {},
   "outputs": [
    {
     "data": {
      "text/plain": [
       "dict_keys(['h', 'e', 'l', 'o', 'w', 'r', 'd'])"
      ]
     },
     "execution_count": 21,
     "metadata": {},
     "output_type": "execute_result"
    }
   ],
   "source": [
    "d.keys()"
   ]
  },
  {
   "cell_type": "markdown",
   "id": "6e54dcc9",
   "metadata": {},
   "source": [
    "## Function"
   ]
  },
  {
   "cell_type": "code",
   "execution_count": 23,
   "id": "392304d8",
   "metadata": {},
   "outputs": [
    {
     "data": {
      "text/plain": [
       "[1, 2, 3, 4, 5, 6, 7, 8, 9]"
      ]
     },
     "execution_count": 23,
     "metadata": {},
     "output_type": "execute_result"
    }
   ],
   "source": [
    "x = list(range(1,10))\n",
    "x"
   ]
  },
  {
   "cell_type": "code",
   "execution_count": null,
   "id": "69ceafd6",
   "metadata": {},
   "outputs": [],
   "source": []
  },
  {
   "cell_type": "code",
   "execution_count": null,
   "id": "115a9fb8",
   "metadata": {},
   "outputs": [],
   "source": [
    "def f(x):\n",
    "    y =[]\n",
    "    for i in x:\n",
    "        y.append((2*x)+1)\n",
    "        return y"
   ]
  },
  {
   "cell_type": "code",
   "execution_count": 31,
   "id": "c51a3a7d",
   "metadata": {},
   "outputs": [],
   "source": [
    "def add(i,j):\n",
    "    return i+j"
   ]
  },
  {
   "cell_type": "code",
   "execution_count": 32,
   "id": "6d77fe82",
   "metadata": {},
   "outputs": [
    {
     "data": {
      "text/plain": [
       "3"
      ]
     },
     "execution_count": 32,
     "metadata": {},
     "output_type": "execute_result"
    }
   ],
   "source": [
    "add(1,2)"
   ]
  },
  {
   "cell_type": "code",
   "execution_count": null,
   "id": "a85c82f7",
   "metadata": {},
   "outputs": [],
   "source": [
    "import typing\n",
    "\n",
    "def sum_product(a:int,b:int):\n",
    "    if not isinstance(a, int): return None\n",
    "    return a+b, a*b"
   ]
  },
  {
   "cell_type": "code",
   "execution_count": 41,
   "id": "98a55ff9",
   "metadata": {},
   "outputs": [
    {
     "data": {
      "text/plain": [
       "(11, 30)"
      ]
     },
     "execution_count": 41,
     "metadata": {},
     "output_type": "execute_result"
    }
   ],
   "source": [
    "sum_product(5,6) # 11,30"
   ]
  },
  {
   "cell_type": "code",
   "execution_count": null,
   "id": "e0d583b0",
   "metadata": {},
   "outputs": [],
   "source": [
    "def max_elements(a:int,b:int,c:int)->int:\n",
    "    return max(a,b,c)"
   ]
  },
  {
   "cell_type": "code",
   "execution_count": 43,
   "id": "4d897779",
   "metadata": {},
   "outputs": [
    {
     "data": {
      "text/plain": [
       "3"
      ]
     },
     "execution_count": 43,
     "metadata": {},
     "output_type": "execute_result"
    }
   ],
   "source": [
    "max_elements(1,2,3)"
   ]
  },
  {
   "cell_type": "code",
   "execution_count": 45,
   "id": "fad031f6",
   "metadata": {},
   "outputs": [
    {
     "data": {
      "text/plain": [
       "3"
      ]
     },
     "execution_count": 45,
     "metadata": {},
     "output_type": "execute_result"
    }
   ],
   "source": [
    "data = [1,2,3]\n",
    "max_elements(*data)"
   ]
  },
  {
   "cell_type": "code",
   "execution_count": 46,
   "id": "ce26a2e9",
   "metadata": {},
   "outputs": [
    {
     "data": {
      "text/plain": [
       "3"
      ]
     },
     "execution_count": 46,
     "metadata": {},
     "output_type": "execute_result"
    }
   ],
   "source": [
    "params = {'a':1,\n",
    "          'b':2,\n",
    "          'c':3}\n",
    "\n",
    "max_elements(**params)"
   ]
  },
  {
   "cell_type": "code",
   "execution_count": null,
   "id": "814715dc",
   "metadata": {},
   "outputs": [],
   "source": [
    "def max_elements2(*args)->int:\n",
    "    return max(*args)"
   ]
  },
  {
   "cell_type": "code",
   "execution_count": 50,
   "id": "42f99afd",
   "metadata": {},
   "outputs": [
    {
     "data": {
      "text/plain": [
       "5"
      ]
     },
     "execution_count": 50,
     "metadata": {},
     "output_type": "execute_result"
    }
   ],
   "source": [
    "max_elements2(1,2,3,4,5)"
   ]
  },
  {
   "cell_type": "code",
   "execution_count": 60,
   "id": "493de3ac",
   "metadata": {},
   "outputs": [],
   "source": [
    "def max_elements3(a, b, kargs):\n",
    "    return max(a, b, *kargs.values())"
   ]
  },
  {
   "cell_type": "code",
   "execution_count": 61,
   "id": "b0fc7bef",
   "metadata": {},
   "outputs": [
    {
     "data": {
      "text/plain": [
       "7"
      ]
     },
     "execution_count": 61,
     "metadata": {},
     "output_type": "execute_result"
    }
   ],
   "source": [
    "max_elements3(1,2,{'a':1,'b':2,'c':7})"
   ]
  },
  {
   "cell_type": "code",
   "execution_count": null,
   "id": "bf5e8e8a",
   "metadata": {},
   "outputs": [],
   "source": [
    "def swap(a,b):\n",
    "    a,b=b,a\n",
    "    return a,b = b,a"
   ]
  },
  {
   "cell_type": "code",
   "execution_count": 62,
   "id": "b3c033c6",
   "metadata": {},
   "outputs": [
    {
     "data": {
      "text/plain": [
       "1.6094379124341003"
      ]
     },
     "execution_count": 62,
     "metadata": {},
     "output_type": "execute_result"
    }
   ],
   "source": [
    "from math import log\n",
    "log(5)"
   ]
  },
  {
   "cell_type": "code",
   "execution_count": 63,
   "id": "eb9e763a",
   "metadata": {},
   "outputs": [
    {
     "data": {
      "text/plain": [
       "1.6094379124341003"
      ]
     },
     "execution_count": 63,
     "metadata": {},
     "output_type": "execute_result"
    }
   ],
   "source": [
    "import math as m\n",
    "\n",
    "m.log(5)"
   ]
  },
  {
   "cell_type": "markdown",
   "id": "2e9f6f49",
   "metadata": {},
   "source": [
    "## Class"
   ]
  },
  {
   "cell_type": "code",
   "execution_count": 67,
   "id": "161e90ad",
   "metadata": {},
   "outputs": [
    {
     "data": {
      "text/plain": [
       "3"
      ]
     },
     "execution_count": 67,
     "metadata": {},
     "output_type": "execute_result"
    }
   ],
   "source": [
    "class Adder:\n",
    "    def __init__(self, a,b):\n",
    "        self.a = a\n",
    "        self.b = b\n",
    "\n",
    "    def __call__(self, *args, **kwds):\n",
    "         return self.a + self.b \n",
    "\n",
    "    def __str__(self):\n",
    "        return str(self.a + self.b )  \n",
    "\n",
    "    def sum(self):\n",
    "        return self.a + self.b\n",
    "\n",
    "\n",
    "add = Adder(1, 2)\n",
    "add() #3"
   ]
  },
  {
   "cell_type": "code",
   "execution_count": 68,
   "id": "bd59fa33",
   "metadata": {},
   "outputs": [
    {
     "name": "stdout",
     "output_type": "stream",
     "text": [
      "3\n"
     ]
    }
   ],
   "source": [
    "add = Adder(1, 2)\n",
    "print(add())"
   ]
  },
  {
   "cell_type": "code",
   "execution_count": 72,
   "id": "69b02427",
   "metadata": {},
   "outputs": [],
   "source": [
    "class MySum:\n",
    "    def __init__(self,a):\n",
    "        self.data=a\n",
    "\n",
    "    def __call__(self, *args, **kwds):\n",
    "        return sum(self.data)\n",
    "    \n",
    "    def __getitem__(self,i):\n",
    "        return self.data[i]"
   ]
  },
  {
   "cell_type": "code",
   "execution_count": 73,
   "id": "ed2304c1",
   "metadata": {},
   "outputs": [
    {
     "data": {
      "text/plain": [
       "3"
      ]
     },
     "execution_count": 73,
     "metadata": {},
     "output_type": "execute_result"
    }
   ],
   "source": [
    "s = MySum([1 ,2, 3, 4])\n",
    "s[0] + s[1]"
   ]
  },
  {
   "cell_type": "code",
   "execution_count": 74,
   "id": "3010538f",
   "metadata": {},
   "outputs": [
    {
     "data": {
      "text/plain": [
       "10"
      ]
     },
     "execution_count": 74,
     "metadata": {},
     "output_type": "execute_result"
    }
   ],
   "source": [
    "s = MySum([1 ,2, 3, 4])\n",
    "s()"
   ]
  },
  {
   "cell_type": "code",
   "execution_count": 83,
   "id": "060d0ce6",
   "metadata": {},
   "outputs": [
    {
     "name": "stdout",
     "output_type": "stream",
     "text": [
      "0\n",
      "1\n",
      "2\n",
      "3\n",
      "4\n"
     ]
    }
   ],
   "source": [
    "class Range:\n",
    "    def __init__(self, n):\n",
    "        self.s = 0  # 시작 값 (state, 상태)\n",
    "        self.n = n  # 종료 값 (limit)\n",
    "\n",
    "    def __iter__(self):\n",
    "        # for 루프가 시작될 때 호출됨\n",
    "        # \"이터레이터 객체는 바로 나 자신이야\" 라고 알려줌\n",
    "        return self\n",
    "\n",
    "    def __next__(self):\n",
    "        # for 루프가 한 번씩 돌 때마다 호출됨\n",
    "        if self.s < self.n:\n",
    "            # 아직 종료 값에 도달하지 않았다면\n",
    "            current_value = self.s  # 현재 값을 잠시 저장하고\n",
    "            self.s += 1             # 다음을 위해 상태를 1 증가시킨 뒤\n",
    "            return current_value    # 저장해둔 현재 값을 반환\n",
    "        else:\n",
    "            # 종료 값에 도달했거나 넘어섰다면\n",
    "            # StopIteration 예외를 발생시켜 for 루프를 종료시킴\n",
    "            raise StopIteration\n",
    "\n",
    "# --- 코드 실행 ---\n",
    "for i in Range(5):\n",
    "    print(i)"
   ]
  },
  {
   "cell_type": "code",
   "execution_count": 95,
   "id": "06522e30",
   "metadata": {},
   "outputs": [],
   "source": [
    "class BankAccount:\n",
    "    def __init__(self,name,money):\n",
    "        self.name = name\n",
    "        self.money = money\n",
    "\n",
    "    def get_balance(self):\n",
    "        return f\"현재 잔액 : {self.money}\"     \n",
    "    \n",
    "    def deposit(self,a):\n",
    "        if (a < 0):\n",
    "            return \"유효하지 않은 입금액입니다.\"\n",
    "        self.money = self.money + a\n",
    "        return f\"입금 완료! 현재 잔액: {self.money}\""
   ]
  },
  {
   "cell_type": "code",
   "execution_count": null,
   "id": "d321f352",
   "metadata": {},
   "outputs": [
    {
     "data": {
      "text/plain": [
       "'유효하지 않은 입금액입니다.'"
      ]
     },
     "execution_count": 96,
     "metadata": {},
     "output_type": "execute_result"
    }
   ],
   "source": [
    "account1 = BankAccount(\"홍길동\", 10000)\n",
    "account1.get_balance()\n",
    "account1.deposit(5000)  # 출력: 입금 완료! 현재 잔액: 15000원 "
   ]
  },
  {
   "cell_type": "code",
   "execution_count": null,
   "id": "f74f5315",
   "metadata": {},
   "outputs": [],
   "source": [
    "# 아래 코드가 오류 없이 실행되도록 BankAccount 클래스를 완성하세요.\n",
    "\n",
    "# 1. '홍길동' 이름으로 10000원의 초기 잔액을 가진 계좌 생성\n",
    "account1 = BankAccount(\"홍길동\", 10000)\n",
    "account1.get_balance()  # 출력: 홍길동님의 현재 잔액은 10000원입니다.\n",
    "\n",
    "# 2. 입금 테스트\n",
    "account1.deposit(5000)  # 출력: 입금 완료! 현재 잔액: 15000원\n",
    "account1.deposit(-100)  # 출력: 유효하지 않은 입금액입니다.\n",
    "\n",
    "# 3. 출금 테스트\n",
    "account1.withdraw(3000) # 출력: 출금 완료! 현재 잔액: 12000원\n",
    "account1.withdraw(15000) # 출력: 잔액이 부족합니다.\n",
    "account1.withdraw(0)    # 출력: 유효하지 않은 출금액입니다.\n",
    "\n",
    "# 4. 최종 잔액 확인\n",
    "account1.get_balance()  # 출력: 홍길동님의 현재 잔액은 12000원입니다.\n",
    "\n",
    "print(\"-\" * 20)\n",
    "\n",
    "# '이순신' 이름으로 -5000원의 초기 잔액을 가진 계좌 생성 (잔액은 0으로 설정되어야 함)\n",
    "account2 = BankAccount(\"이순신\", -5000)\n",
    "account2.get_balance()  # 출력: 이순신님의 현재 잔액은 0원입니다.\n",
    "account2.deposit(10000) # 출력: 입금 완료! 현재 잔액: 10000원"
   ]
  },
  {
   "cell_type": "code",
   "execution_count": null,
   "id": "f528f1a7",
   "metadata": {},
   "outputs": [
    {
     "data": {
      "text/plain": [
       "1"
      ]
     },
     "execution_count": 3,
     "metadata": {},
     "output_type": "execute_result"
    }
   ],
   "source": [
    "a = 1\n",
    "b = 2\n",
    "c = a\n",
    "c = b \n",
    "a"
   ]
  }
 ],
 "metadata": {
  "kernelspec": {
   "display_name": "Python 3",
   "language": "python",
   "name": "python3"
  },
  "language_info": {
   "codemirror_mode": {
    "name": "ipython",
    "version": 3
   },
   "file_extension": ".py",
   "mimetype": "text/x-python",
   "name": "python",
   "nbconvert_exporter": "python",
   "pygments_lexer": "ipython3",
   "version": "3.9.13"
  }
 },
 "nbformat": 4,
 "nbformat_minor": 5
}
