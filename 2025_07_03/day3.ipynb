{
 "cells": [
  {
   "cell_type": "code",
   "execution_count": 2,
   "id": "b59c0979",
   "metadata": {},
   "outputs": [
    {
     "data": {
      "text/plain": [
       "[1, 8]"
      ]
     },
     "execution_count": 2,
     "metadata": {},
     "output_type": "execute_result"
    }
   ],
   "source": [
    "s = [x**3 for x in range(1,3)]\n",
    "s"
   ]
  },
  {
   "cell_type": "code",
   "execution_count": 3,
   "id": "608dc3cd",
   "metadata": {},
   "outputs": [
    {
     "data": {
      "text/plain": [
       "['sam', 'bob']"
      ]
     },
     "execution_count": 3,
     "metadata": {},
     "output_type": "execute_result"
    }
   ],
   "source": [
    "finishers = ['sam', 'bob', 'ada', 'bea']\n",
    "finishers[:2]"
   ]
  },
  {
   "cell_type": "code",
   "execution_count": null,
   "id": "49828e0b",
   "metadata": {},
   "outputs": [],
   "source": [
    "for i in range(65,100):\n",
    "    print(chr(i))"
   ]
  },
  {
   "cell_type": "code",
   "execution_count": 7,
   "id": "d7bc0a8c",
   "metadata": {},
   "outputs": [
    {
     "data": {
      "text/plain": [
       "'0b11'"
      ]
     },
     "execution_count": 7,
     "metadata": {},
     "output_type": "execute_result"
    }
   ],
   "source": [
    "bin(3)"
   ]
  },
  {
   "cell_type": "code",
   "execution_count": 8,
   "id": "72dba677",
   "metadata": {},
   "outputs": [
    {
     "data": {
      "text/plain": [
       "['__bool__',\n",
       " '__class__',\n",
       " '__contains__',\n",
       " '__delattr__',\n",
       " '__dir__',\n",
       " '__doc__',\n",
       " '__eq__',\n",
       " '__format__',\n",
       " '__ge__',\n",
       " '__getattribute__',\n",
       " '__getitem__',\n",
       " '__gt__',\n",
       " '__hash__',\n",
       " '__init__',\n",
       " '__init_subclass__',\n",
       " '__iter__',\n",
       " '__le__',\n",
       " '__len__',\n",
       " '__lt__',\n",
       " '__ne__',\n",
       " '__new__',\n",
       " '__reduce__',\n",
       " '__reduce_ex__',\n",
       " '__repr__',\n",
       " '__reversed__',\n",
       " '__setattr__',\n",
       " '__sizeof__',\n",
       " '__str__',\n",
       " '__subclasshook__',\n",
       " 'count',\n",
       " 'index',\n",
       " 'start',\n",
       " 'step',\n",
       " 'stop']"
      ]
     },
     "execution_count": 8,
     "metadata": {},
     "output_type": "execute_result"
    }
   ],
   "source": [
    "dir(range)"
   ]
  },
  {
   "cell_type": "code",
   "execution_count": 12,
   "id": "f62b00ca",
   "metadata": {},
   "outputs": [
    {
     "data": {
      "text/plain": [
       "(5, 72)"
      ]
     },
     "execution_count": 12,
     "metadata": {},
     "output_type": "execute_result"
    }
   ],
   "source": [
    "divmod(572,100)"
   ]
  },
  {
   "cell_type": "code",
   "execution_count": 14,
   "id": "0be4f0fc",
   "metadata": {},
   "outputs": [
    {
     "data": {
      "text/plain": [
       "6"
      ]
     },
     "execution_count": 14,
     "metadata": {},
     "output_type": "execute_result"
    }
   ],
   "source": [
    "inp = input().split()\n",
    "a,b,c = inp\n",
    "a, b,c = int(a), int(b), int(c)\n",
    "a+b+c"
   ]
  },
  {
   "cell_type": "code",
   "execution_count": 16,
   "id": "e7f802dd",
   "metadata": {},
   "outputs": [
    {
     "data": {
      "text/plain": [
       "[1, 2, 3]"
      ]
     },
     "execution_count": 16,
     "metadata": {},
     "output_type": "execute_result"
    }
   ],
   "source": [
    "list(map(int, input().split())) # ['1', '2', '3']"
   ]
  },
  {
   "cell_type": "code",
   "execution_count": 24,
   "id": "2a6cfbf4",
   "metadata": {},
   "outputs": [
    {
     "data": {
      "text/plain": [
       "[2]"
      ]
     },
     "execution_count": 24,
     "metadata": {},
     "output_type": "execute_result"
    }
   ],
   "source": [
    "data = ['1', '2' ,'3']\n",
    "data = map(int,data)\n",
    "even = lambda x:x %2 == 0\n",
    "\n",
    "list(filter(even,map(int,data)))"
   ]
  },
  {
   "cell_type": "code",
   "execution_count": 25,
   "id": "eac945c1",
   "metadata": {},
   "outputs": [
    {
     "data": {
      "text/plain": [
       "0"
      ]
     },
     "execution_count": 25,
     "metadata": {},
     "output_type": "execute_result"
    }
   ],
   "source": [
    "from functools import reduce\n",
    "from operator import add\n",
    "\n",
    "reduce(add, data,0)"
   ]
  },
  {
   "cell_type": "code",
   "execution_count": null,
   "id": "0f5a04fd",
   "metadata": {},
   "outputs": [
    {
     "data": {
      "text/plain": [
       "1914653807497745989"
      ]
     },
     "execution_count": 26,
     "metadata": {},
     "output_type": "execute_result"
    }
   ],
   "source": [
    "hash('hello')"
   ]
  },
  {
   "cell_type": "code",
   "execution_count": null,
   "id": "b62fb7ce",
   "metadata": {},
   "outputs": [],
   "source": [
    "d = dict()"
   ]
  },
  {
   "cell_type": "code",
   "execution_count": 29,
   "id": "8ef19d0c",
   "metadata": {},
   "outputs": [
    {
     "ename": "NameError",
     "evalue": "name 'd' is not defined",
     "output_type": "error",
     "traceback": [
      "\u001b[1;31m---------------------------------------------------------------------------\u001b[0m",
      "\u001b[1;31mNameError\u001b[0m                                 Traceback (most recent call last)",
      "Cell \u001b[1;32mIn[29], line 1\u001b[0m\n\u001b[1;32m----> 1\u001b[0m \u001b[43md\u001b[49m[\u001b[38;5;124m'\u001b[39m\u001b[38;5;124ma\u001b[39m\u001b[38;5;124m'\u001b[39m] \u001b[38;5;241m=\u001b[39m \u001b[38;5;241m5\u001b[39m\n\u001b[0;32m      2\u001b[0m d[\u001b[38;5;124m'\u001b[39m\u001b[38;5;124ma\u001b[39m\u001b[38;5;124m'\u001b[39m]\n",
      "\u001b[1;31mNameError\u001b[0m: name 'd' is not defined"
     ]
    }
   ],
   "source": [
    "d['a'] = 5\n",
    "d['a']"
   ]
  },
  {
   "cell_type": "code",
   "execution_count": 35,
   "id": "ecad5191",
   "metadata": {},
   "outputs": [
    {
     "name": "stdout",
     "output_type": "stream",
     "text": [
      "d 1805155259904\n",
      "d 1805155259904\n"
     ]
    },
    {
     "data": {
      "text/plain": [
       "[1, 2, 3]"
      ]
     },
     "execution_count": 35,
     "metadata": {},
     "output_type": "execute_result"
    }
   ],
   "source": [
    "def add(d):\n",
    "    print('d', id(d))\n",
    "    d.append(3)\n",
    "\n",
    "data = [1,2]\n",
    "print('d',id(data))\n",
    "add(data)\n",
    "data\n",
    "data"
   ]
  },
  {
   "cell_type": "code",
   "execution_count": 46,
   "id": "eed52094",
   "metadata": {},
   "outputs": [
    {
     "data": {
      "text/plain": [
       "(0, 1, 2, 3, 4)"
      ]
     },
     "execution_count": 46,
     "metadata": {},
     "output_type": "execute_result"
    }
   ],
   "source": [
    "r = range(5)\n",
    "ri = iter(r)\n",
    "next(ri),next(ri),next(ri),next(ri),next(ri)\n"
   ]
  },
  {
   "cell_type": "code",
   "execution_count": 47,
   "id": "ac4c9a63",
   "metadata": {},
   "outputs": [
    {
     "data": {
      "text/plain": [
       "5"
      ]
     },
     "execution_count": 47,
     "metadata": {},
     "output_type": "execute_result"
    }
   ],
   "source": [
    "len(r)"
   ]
  },
  {
   "cell_type": "code",
   "execution_count": null,
   "id": "75f54004",
   "metadata": {},
   "outputs": [],
   "source": [
    "class Range:\n",
    "    def __init__(self, n):\n",
    "        self.n = n\n",
    "        self.current = 0\n",
    "\n",
    "    def __iter__(self):\n",
    "        return self\n",
    "    \n",
    "    def __next__(self):\n",
    "        if self.current < self.n:\n",
    "            return_value = self.current\n",
    "            self.current += 1\n",
    "            return return_value\n",
    "        raise StopIteration()\n",
    "    \n",
    "    def __str__(self):\n",
    "        return str('Range class')\n",
    "    \n",
    "    def __repr__(self):\n",
    "        return str('repr')"
   ]
  },
  {
   "cell_type": "code",
   "execution_count": 51,
   "id": "e51c0e8c",
   "metadata": {},
   "outputs": [
    {
     "data": {
      "text/plain": [
       "(0, 1, 2, 3, 4)"
      ]
     },
     "execution_count": 51,
     "metadata": {},
     "output_type": "execute_result"
    }
   ],
   "source": [
    "r = Range(5)\n",
    "ri = iter(r)\n",
    "next(ri),next(ri),next(ri),next(ri),next(ri)"
   ]
  },
  {
   "cell_type": "code",
   "execution_count": 57,
   "id": "9aa88cb9",
   "metadata": {},
   "outputs": [
    {
     "data": {
      "text/plain": [
       "<__main__.Range at 0x1a44bbd2880>"
      ]
     },
     "execution_count": 57,
     "metadata": {},
     "output_type": "execute_result"
    }
   ],
   "source": [
    "r"
   ]
  },
  {
   "cell_type": "code",
   "execution_count": 52,
   "id": "75919134",
   "metadata": {},
   "outputs": [
    {
     "name": "stdout",
     "output_type": "stream",
     "text": [
      "Range class\n"
     ]
    }
   ],
   "source": [
    "print(r)"
   ]
  },
  {
   "cell_type": "code",
   "execution_count": 58,
   "id": "ab70e927",
   "metadata": {},
   "outputs": [
    {
     "name": "stdout",
     "output_type": "stream",
     "text": [
      "1\n",
      "2\n",
      "3\n"
     ]
    }
   ],
   "source": [
    "with open('data.txt', 'r') as f:\n",
    "    for i in f:\n",
    "        print(i, end='')"
   ]
  },
  {
   "cell_type": "code",
   "execution_count": 60,
   "id": "2e9f1422",
   "metadata": {},
   "outputs": [
    {
     "data": {
      "text/plain": [
       "8"
      ]
     },
     "execution_count": 60,
     "metadata": {},
     "output_type": "execute_result"
    }
   ],
   "source": [
    "pow(2,3)\n",
    "2**3"
   ]
  },
  {
   "cell_type": "code",
   "execution_count": 63,
   "id": "d3d1c3b9",
   "metadata": {},
   "outputs": [
    {
     "data": {
      "text/plain": [
       "310.0"
      ]
     },
     "execution_count": 63,
     "metadata": {},
     "output_type": "execute_result"
    }
   ],
   "source": [
    "round(314.123,-1)"
   ]
  },
  {
   "cell_type": "code",
   "execution_count": 66,
   "id": "42c80b0f",
   "metadata": {},
   "outputs": [
    {
     "data": {
      "text/plain": [
       "{3}"
      ]
     },
     "execution_count": 66,
     "metadata": {},
     "output_type": "execute_result"
    }
   ],
   "source": [
    "a = set([1,2,3])\n",
    "b = set([4,5,3])\n",
    "\n",
    "a.intersection(b)"
   ]
  },
  {
   "cell_type": "code",
   "execution_count": 69,
   "id": "4dfa8502",
   "metadata": {},
   "outputs": [
    {
     "data": {
      "text/plain": [
       "[5, 3, 1]"
      ]
     },
     "execution_count": 69,
     "metadata": {},
     "output_type": "execute_result"
    }
   ],
   "source": [
    "sorted([3,5,1], reverse=True)"
   ]
  },
  {
   "cell_type": "code",
   "execution_count": 77,
   "id": "296749a3",
   "metadata": {},
   "outputs": [
    {
     "data": {
      "text/plain": [
       "[('b', 1), ('a', 3), ('c', 5)]"
      ]
     },
     "execution_count": 77,
     "metadata": {},
     "output_type": "execute_result"
    }
   ],
   "source": [
    "d = {\n",
    "    'c' : 5,\n",
    "    'b' : 1,\n",
    "    'a' : 3\n",
    "}\n",
    "\n",
    "sorted(d.items(), key=lambda x: x[1])"
   ]
  },
  {
   "cell_type": "code",
   "execution_count": null,
   "id": "f333562f",
   "metadata": {},
   "outputs": [],
   "source": [
    "[(1,1),(1,-1),(1,2)]"
   ]
  },
  {
   "cell_type": "code",
   "execution_count": null,
   "id": "456477fa",
   "metadata": {},
   "outputs": [
    {
     "data": {
      "text/plain": [
       "[1, 2, 3, 'a', 'b', 'c']"
      ]
     },
     "execution_count": 80,
     "metadata": {},
     "output_type": "execute_result"
    }
   ],
   "source": [
    "a = [1,2,3]\n",
    "b = ['a','b','c']\n",
    "\n",
    "list(zip(a,b))"
   ]
  },
  {
   "cell_type": "markdown",
   "id": "52416715",
   "metadata": {},
   "source": [
    "## Class inheritance"
   ]
  },
  {
   "cell_type": "code",
   "execution_count": 89,
   "id": "b0c74b6d",
   "metadata": {},
   "outputs": [],
   "source": [
    "class Number:\n",
    "\n",
    "    def __init__(self,n):\n",
    "        self.n=n\n",
    "\n",
    "    def __add__(self, other):\n",
    "        return Number(self.n+other.n)\n",
    "    \n",
    "    def __str__(self):\n",
    "        return str(self.n)\n",
    "    \n",
    "    def __repr__(self):\n",
    "        return self.__str__()\n",
    "        "
   ]
  },
  {
   "cell_type": "code",
   "execution_count": 90,
   "id": "113d4205",
   "metadata": {},
   "outputs": [
    {
     "data": {
      "text/plain": [
       "15"
      ]
     },
     "execution_count": 90,
     "metadata": {},
     "output_type": "execute_result"
    }
   ],
   "source": [
    "n1 = Number(5)\n",
    "n2 = Number(10)\n",
    "\n",
    "n1 + n2 # 15"
   ]
  },
  {
   "cell_type": "code",
   "execution_count": 91,
   "id": "a2701873",
   "metadata": {},
   "outputs": [],
   "source": [
    "class EvenNumber(Number):\n",
    "    def __init__(self, n):\n",
    "        super().__init__(n)\n",
    "        if self.n % 2 !=0:\n",
    "            self.n = self.n+self.n"
   ]
  },
  {
   "cell_type": "code",
   "execution_count": 93,
   "id": "c596f4b8",
   "metadata": {},
   "outputs": [
    {
     "data": {
      "text/plain": [
       "20"
      ]
     },
     "execution_count": 93,
     "metadata": {},
     "output_type": "execute_result"
    }
   ],
   "source": [
    "n1 = EvenNumber(5) # 5+5\n",
    "n2 = EvenNumber(10)\n",
    "\n",
    "n1+n2 #20"
   ]
  },
  {
   "cell_type": "code",
   "execution_count": null,
   "id": "a3383496",
   "metadata": {},
   "outputs": [],
   "source": [
    "from abc import ABC, abstractmethod\n",
    "\n",
    "class Player(ABC):\n",
    "    def __init__(self):\n",
    "        super().__init__()\n",
    "        self.name = str()\n",
    "\n",
    "    @abstractmethod\n",
    "    def run(self):\n",
    "        pass"
   ]
  },
  {
   "cell_type": "code",
   "execution_count": 94,
   "id": "01a9f45f",
   "metadata": {},
   "outputs": [],
   "source": [
    "class Sum:\n",
    "    @staticmethod\n",
    "    def plus(data):\n",
    "        return sum(data)"
   ]
  },
  {
   "cell_type": "code",
   "execution_count": 96,
   "id": "499a2fcc",
   "metadata": {},
   "outputs": [
    {
     "data": {
      "text/plain": [
       "10"
      ]
     },
     "execution_count": 96,
     "metadata": {},
     "output_type": "execute_result"
    }
   ],
   "source": [
    "Sum.plus([1,2,3,4])"
   ]
  }
 ],
 "metadata": {
  "kernelspec": {
   "display_name": "Python 3",
   "language": "python",
   "name": "python3"
  },
  "language_info": {
   "codemirror_mode": {
    "name": "ipython",
    "version": 3
   },
   "file_extension": ".py",
   "mimetype": "text/x-python",
   "name": "python",
   "nbconvert_exporter": "python",
   "pygments_lexer": "ipython3",
   "version": "3.9.13"
  }
 },
 "nbformat": 4,
 "nbformat_minor": 5
}
