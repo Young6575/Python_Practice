{
 "cells": [
  {
   "cell_type": "markdown",
   "id": "8e8d1908",
   "metadata": {},
   "source": [
    "### 머신러닝 함수 구현 실습: train_test_split, accuracy, one_hot_encode\n"
   ]
  },
  {
   "cell_type": "markdown",
   "id": "005ca178",
   "metadata": {},
   "source": [
    "머신러닝 실습에서 자주 사용되는 유틸리티 함수들을 **직접 구현해보는 실습**\n",
    "\n",
    "\n",
    "총 3개의 함수 작성 훈련을 통해 데이터 분할, 평가, 인코딩 기초를 다지기.\n",
    "## 아래 코드를 설명하는 것이 필요 \n"
   ]
  },
  {
   "cell_type": "markdown",
   "id": "b11f3266",
   "metadata": {},
   "source": [
    "### 실습용 데이터\n",
    "\n",
    "```python\n",
    "# 입력 데이터 (이름, 점수, 레이블)\n",
    "data = [\n",
    "    (\"홍길동\", 85, 1),\n",
    "    (\"김유신\", 72, 1),\n",
    "    (\"이순신\", 60, 1),\n",
    "    (\"강감찬\", 45, 0),\n",
    "    (\"유관순\", 92, 1),\n",
    "    (\"안중근\", 55, 0),\n",
    "    (\"윤봉길\", 78, 1),\n",
    "    (\"신사임당\", 33, 0),\n",
    "    (\"장보고\", 67, 1),\n",
    "    (\"이황\", 49, 0)\n",
    "]\n",
    "\n",
    "labels = [1, 1, 1, 0, 1, 0, 1, 0, 1, 0] # 통과 불합격 판별 기준: 60점 \n",
    "```\n"
   ]
  },
  {
   "cell_type": "code",
   "execution_count": 11,
   "id": "ade4a954",
   "metadata": {},
   "outputs": [],
   "source": [
    "data = [\n",
    "    (\"홍길동\", 85, 1),\n",
    "    (\"김유신\", 72, 1),\n",
    "    (\"이순신\", 60, 1),\n",
    "    (\"강감찬\", 45, 0),\n",
    "    (\"유관순\", 92, 1),\n",
    "    (\"안중근\", 55, 0),\n",
    "    (\"윤봉길\", 78, 1),\n",
    "    (\"신사임당\", 33, 0),\n",
    "    (\"장보고\", 67, 1),\n",
    "    (\"이황\", 49, 0)\n",
    "]\n",
    "\n",
    "labels = [1, 1, 1, 0, 1, 0, 1, 0, 1, 0]\n"
   ]
  },
  {
   "cell_type": "markdown",
   "id": "d410c5dd",
   "metadata": {},
   "source": [
    "### 실습 1: train_test_split 함수 구현\n",
    "\n",
    "데이터를 주어진 비율로 섞어서 학습/테스트 데이터로 나누는 함수를 작성하기.\n"
   ]
  },
  {
   "cell_type": "code",
   "execution_count": null,
   "id": "fda77194",
   "metadata": {},
   "outputs": [
    {
     "ename": "ModuleNotFoundError",
     "evalue": "No module named 'sklearn'",
     "output_type": "error",
     "traceback": [
      "\u001b[1;31m---------------------------------------------------------------------------\u001b[0m",
      "\u001b[1;31mModuleNotFoundError\u001b[0m                       Traceback (most recent call last)",
      "Cell \u001b[1;32mIn[1], line 3\u001b[0m\n\u001b[0;32m      1\u001b[0m \u001b[38;5;28;01mimport\u001b[39;00m\u001b[38;5;250m \u001b[39m\u001b[38;5;21;01mrandom\u001b[39;00m\n\u001b[0;32m      2\u001b[0m \u001b[38;5;28;01mimport\u001b[39;00m\u001b[38;5;250m \u001b[39m\u001b[38;5;21;01mnumpy\u001b[39;00m\u001b[38;5;250m \u001b[39m\u001b[38;5;28;01mas\u001b[39;00m\u001b[38;5;250m \u001b[39m\u001b[38;5;21;01mnp\u001b[39;00m\n\u001b[1;32m----> 3\u001b[0m \u001b[38;5;28;01mfrom\u001b[39;00m\u001b[38;5;250m \u001b[39m\u001b[38;5;21;01msklearn\u001b[39;00m\u001b[38;5;21;01m.\u001b[39;00m\u001b[38;5;21;01mlinear_model\u001b[39;00m\u001b[38;5;250m \u001b[39m\u001b[38;5;28;01mimport\u001b[39;00m LinearRegression\n\u001b[0;32m      5\u001b[0m \u001b[38;5;66;03m# 사용자 정의 train_test_split 함수\u001b[39;00m\n\u001b[0;32m      6\u001b[0m \u001b[38;5;28;01mdef\u001b[39;00m\u001b[38;5;250m \u001b[39m\u001b[38;5;21mtrain_test_split\u001b[39m(data, ratio\u001b[38;5;241m=\u001b[39m\u001b[38;5;241m0.8\u001b[39m):\n",
      "\u001b[1;31mModuleNotFoundError\u001b[0m: No module named 'sklearn'"
     ]
    }
   ],
   "source": [
    "import random\n",
    "import numpy as np\n",
    "from sklearn.linear_model import LinearRegression\n",
    "\n",
    "# 사용자 정의 train_test_split 함수\n",
    "def train_test_split(data, ratio=0.8):\n",
    "    shuffled = data[:]             # 데이터 복사\n",
    "    random.shuffle(shuffled)       # 무작위 섞기\n",
    "    n = int(len(shuffled) * ratio)\n",
    "    return shuffled[:n], shuffled[n:]\n",
    "\n",
    "# 점수와 라벨만 추출하여 새로운 데이터 생성\n",
    "score_label_data = [(score, label) for _, score, label in data]\n",
    "\n",
    "# 학습/테스트 분할\n",
    "train_data, test_data = train_test_split(score_label_data, ratio=0.8)\n",
    "\n",
    "# X(입력)와 y(출력) 분리 + 2차원으로 변환\n",
    "X_train = np.array([[score] for score, _ in train_data])\n",
    "y_train = np.array([label for _, label in train_data])\n",
    "X_test = np.array([[score] for score, _ in test_data])\n",
    "y_test = np.array([label for _, label in test_data])\n",
    "\n",
    "# 선형회귀 모델 생성 및 학습\n",
    "model = LinearRegression() # 클래스 생성자\n",
    "model.fit(X_train, y_train) # fit() 학습한다는 함수\n",
    "\n",
    "\n"
   ]
  },
  {
   "cell_type": "markdown",
   "id": "7fd4a34f",
   "metadata": {},
   "source": [
    "### 실습 2: accuracy 함수 구현\n",
    "\n",
    "예측값과 실제값이 주어졌을 때 정확도를 계산하는 함수를 구현하기.\n"
   ]
  },
  {
   "cell_type": "code",
   "execution_count": null,
   "id": "7b9c123c",
   "metadata": {},
   "outputs": [
    {
     "ename": "NameError",
     "evalue": "name 'X_test' is not defined",
     "output_type": "error",
     "traceback": [
      "\u001b[1;31m---------------------------------------------------------------------------\u001b[0m",
      "\u001b[1;31mNameError\u001b[0m                                 Traceback (most recent call last)",
      "Cell \u001b[1;32mIn[2], line 8\u001b[0m\n\u001b[0;32m      4\u001b[0m     \u001b[38;5;28;01mreturn\u001b[39;00m correct \u001b[38;5;241m/\u001b[39m \u001b[38;5;28mlen\u001b[39m(y_true) \u001b[38;5;241m*\u001b[39m \u001b[38;5;241m100\u001b[39m\n\u001b[0;32m      6\u001b[0m \u001b[38;5;66;03m# 테스트\u001b[39;00m\n\u001b[0;32m      7\u001b[0m \u001b[38;5;66;03m# 예측\u001b[39;00m\n\u001b[1;32m----> 8\u001b[0m \u001b[38;5;28mprint\u001b[39m(\u001b[43mX_test\u001b[49m)\n\u001b[0;32m      9\u001b[0m \u001b[38;5;28mprint\u001b[39m(y_pred)\n\u001b[0;32m     10\u001b[0m y_pred \u001b[38;5;241m=\u001b[39m model\u001b[38;5;241m.\u001b[39mpredict(X_test)\n",
      "\u001b[1;31mNameError\u001b[0m: name 'X_test' is not defined"
     ]
    }
   ],
   "source": [
    "# 분류 모델의 정확도(accuracy) 계산 \n",
    "def accuracy(y_true, y_pred):\n",
    "    correct = sum([1 for yt, yp in zip(y_true, y_pred) if yt == yp])\n",
    "    return correct / len(y_true) * 100\n",
    "\n",
    "# 테스트\n",
    "# 예측\n",
    "print(X_test)\n",
    "y_pred = model.predict(X_test)\n",
    "print(y_pred)\n",
    "y_pred = model.predict(X_test)\n",
    "# 예측값에 시그모이드 적용\n",
    "def sigmoid(x):\n",
    "    return 1 / (1 + np.exp(-x))\n",
    "y_est = sigmoid(y_pred)\n",
    "y_pred2 = (y_est >= 0.5).astype(int)\n",
    "print(y_test)\n",
    "print(y_pred2)\n",
    "print(\"정확도:\", accuracy(y_test, y_pred2))\n"
   ]
  },
  {
   "cell_type": "markdown",
   "id": "f338a158",
   "metadata": {},
   "source": [
    "### 실습 3: one_hot_encode 함수 구현\n",
    "\n",
    "레이블 리스트를 받아 원-핫 인코딩된 2차원 리스트를 반환하는 함수를 구현하기.\n"
   ]
  },
  {
   "cell_type": "code",
   "execution_count": 22,
   "id": "8374d866",
   "metadata": {},
   "outputs": [
    {
     "name": "stdout",
     "output_type": "stream",
     "text": [
      "원-핫 인코딩 결과:\n",
      "[1, 0, 0, 0]\n",
      "[0, 1, 0, 0]\n",
      "[0, 0, 1, 0]\n",
      "[0, 0, 0, 1]\n",
      "[1, 0, 0, 0]\n",
      "[0, 1, 0, 0]\n",
      "[0, 0, 0, 1]\n"
     ]
    }
   ],
   "source": [
    "def one_hot_encode(labels):\n",
    "    num_classes = max(labels) + 1\n",
    "    return [[1 if i == label else 0 for i in range(num_classes)] for label in labels] # 동작 이해 필요>설명할 수 있어야 한다 \n",
    "\n",
    "# 테스트\n",
    "labels = [0, 1, 2, 3, 0, 1, 3]\n",
    "print(\"원-핫 인코딩 결과:\")\n",
    "for row in one_hot_encode(labels):\n",
    "    print(row)\n"
   ]
  },
  {
   "cell_type": "markdown",
   "id": "08224c2b",
   "metadata": {},
   "source": [
    "파이썬에서 __call__() 메서드를 오버라이드하면 객체를 함수처럼 호출\n",
    "\n",
    "- 이를 이용하면 model(input)처럼 썼을 때 자동으로 forward() 메서드가 호출\n",
    "\n",
    " __call__()로 forward() 자동 호출 예제"
   ]
  },
  {
   "cell_type": "code",
   "execution_count": null,
   "id": "fce1c293",
   "metadata": {},
   "outputs": [],
   "source": [
    "class BaseModel:\n",
    "    def __call__(self, X): # 객체를 함수처럼 호출할 때 자동으로 실행되는 매직 메서드\n",
    "        return self.forward(X)\n",
    "    \n",
    "    def forward(self, X):\n",
    "        raise NotImplementedError(\"forward() must be implemented in subclass\") # 파이썬에서 예외 발생시킴 \n",
    "        # 상속받는 쪽이 반드시 forward()를 정의하도록 강제함\n",
    "\n",
    "\n",
    "class MyModel(BaseModel):\n",
    "    def forward(self, X): #실제 계산을 담당하는 함수. PyTorch 모델이 반드시 구현해야 하는 부분\n",
    "        return [x * 2 for x in X]\n"
   ]
  },
  {
   "cell_type": "code",
   "execution_count": null,
   "id": "76eece52",
   "metadata": {},
   "outputs": [],
   "source": [
    "try:\n",
    "    value = int(input(\"숫자 입력: \"))\n",
    "    result = 10 / value #파이썬 인터프리터 내부에서 자동으로 예외를 발생\n",
    "except ValueError:\n",
    "    print(\"정수를 입력해야 합니다.\")\n",
    "except ZeroDivisionError:\n",
    "    print(\"0으로 나눌 수 없습니다.\")\n",
    "except Exception as e:\n",
    "    print(\"기타 예외:\", e)\n"
   ]
  },
  {
   "cell_type": "markdown",
   "id": "ed65043e",
   "metadata": {},
   "source": [
    "## 객체를 함수처럼 호출"
   ]
  },
  {
   "cell_type": "code",
   "execution_count": null,
   "id": "61e6297c",
   "metadata": {},
   "outputs": [
    {
     "name": "stdout",
     "output_type": "stream",
     "text": [
      "[2, 4, 6]\n"
     ]
    }
   ],
   "source": [
    "model = MyModel()\n",
    "\n",
    "input_data = [1, 2, 3]\n",
    "output = model(input_data)  # __call__() → forward() 자동 호출\n",
    "# 내부적으로 model.__call__(input) → 자동으로 forward(input) 호출\n",
    "print(output)  # [2, 4, 6]\n"
   ]
  },
  {
   "cell_type": "markdown",
   "id": "3c99c781",
   "metadata": {},
   "source": [
    "### BaseModel → MyModel 구조는 PyTorch의 핵심 설계 철학과 거의 동일하며, 딥러닝 모델을 직접 구현하는 데 매우 중요한 기반"
   ]
  },
  {
   "cell_type": "code",
   "execution_count": null,
   "id": "0c3579a5",
   "metadata": {},
   "outputs": [
    {
     "name": "stdout",
     "output_type": "stream",
     "text": [
      "tensor(4)\n"
     ]
    }
   ],
   "source": [
    "import torch\n",
    "import torch.nn as nn # torch.nn 모듈은 신경망 레이어, 모델 구조, 손실 함수 등을 담고 있는 PyTorch의 핵심 구성요소\n",
    "\n",
    "class Net(nn.Module): #nn.Module을 상속받아 PyTorch 모델로 인식\n",
    "    def forward(self, x): # forward() 메서드를 자동 연결해주는 __call__() 등이 내장\n",
    "        return x + 1\n",
    "\n",
    "net = Net()\n",
    "print(net(torch.tensor(3)))  # __call__ → forward 자동 호출\n"
   ]
  },
  {
   "cell_type": "markdown",
   "id": "7b9139c1",
   "metadata": {},
   "source": [
    "net(torch.tensor(3))\n",
    "→ net.__call__(torch.tensor(3))\n",
    "→ net.forward(torch.tensor(3))\n",
    "→ return x + 1 → tensor(4)\n"
   ]
  },
  {
   "cell_type": "markdown",
   "id": "c9706bd2",
   "metadata": {},
   "source": [
    "### 모델의 순전파(forward propagation) 연산을 정의하는 함수\n",
    "\n",
    "\n",
    "PyTorch에서는 model(input)을 호출하면 __call__() → forward()로 연결\n",
    "\n",
    "\n",
    "여기서는 입력 x에 단순히 1을 더해서 반환\n"
   ]
  },
  {
   "cell_type": "markdown",
   "id": "4d665eb0",
   "metadata": {},
   "source": [
    "__call__()\t객체를 함수처럼 사용 가능하게 함\n",
    "\n",
    "forward()\t주 연산 로직 (직접 호출은 안 함)\n",
    "\n",
    "model(X)\t내부적으로 forward(X) 실행됨"
   ]
  },
  {
   "cell_type": "code",
   "execution_count": null,
   "id": "93a82a46",
   "metadata": {},
   "outputs": [],
   "source": [
    "import torch\n",
    "import torch.nn as nn\n",
    "\n",
    "class Net(nn.Module):\n",
    "    def __init__(self):\n",
    "        super().__init__()\n",
    "        self.model = nn.Sequential(\n",
    "            nn.Linear(2, 4),     # 입력 2차원 → 은닉 4차원\n",
    "            nn.ReLU(),           # 비선형 함수\n",
    "            nn.Linear(4, 1)      # 은닉 → 출력\n",
    "        )\n",
    "\n",
    "    def forward(self, x):\n",
    "        return self.model(x)\n",
    "\n",
    "# 모델 생성\n",
    "net = Net()\n",
    "\n",
    "# 샘플 입력 (2차원 벡터 2개)\n",
    "X = torch.tensor([[1.0, 2.0], [3.0, 4.0]])\n",
    "y_true = torch.tensor([[1.0], [0.0]])\n",
    "\n",
    "# 예측\n",
    "y_pred = net(X) # __call__()  자동 호출 \n",
    "\n",
    "# 손실 함수 (Mean Squared Error)\n",
    "criterion = nn.MSELoss()\n",
    "loss = criterion(y_pred, y_true)\n",
    "\n",
    "# 출력\n",
    "print(\"예측 결과:\\n\", y_pred)\n",
    "print(\"손실 값:\", loss.item())\n"
   ]
  }
 ],
 "metadata": {
  "kernelspec": {
   "display_name": "Python 3",
   "language": "python",
   "name": "python3"
  },
  "language_info": {
   "codemirror_mode": {
    "name": "ipython",
    "version": 3
   },
   "file_extension": ".py",
   "mimetype": "text/x-python",
   "name": "python",
   "nbconvert_exporter": "python",
   "pygments_lexer": "ipython3",
   "version": "3.9.13"
  }
 },
 "nbformat": 4,
 "nbformat_minor": 5
}
