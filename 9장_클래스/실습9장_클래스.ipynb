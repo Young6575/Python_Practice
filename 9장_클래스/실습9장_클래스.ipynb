{
 "cells": [
  {
   "cell_type": "code",
   "execution_count": 2,
   "metadata": {},
   "outputs": [
    {
     "name": "stdout",
     "output_type": "stream",
     "text": [
      "[홍길동, 30, 개발부]\n",
      "[김철수, 27, 마케팅부]\n",
      "emp.name = 홍길동\n",
      "emp.age = 31\n"
     ]
    }
   ],
   "source": [
    "\n",
    "class Employee: ### 클래스 이름은 대문자로 \n",
    "    \"\"\"클래스 정의 \"\"\"\n",
    "    def __init__(self, name, dept, age): # 자동 호출되는 생성자 역할\n",
    "        #self는 현재 생성 중인 객체 자신\n",
    "        \"\"\"생성자: 직원의 이름(name), 부서(dept), 나이(age)를 초기화\"\"\"\n",
    "        self.name = name    # 문자열: 직원의 이름\n",
    "        self.dept = dept    # 문자열: 부서명\n",
    "        self.age = age      # 정수: 나이\n",
    "\n",
    "    def show(self):\n",
    "        \"\"\"[이름, 나이, 부서] 형식으로 직원 정보를 출력하는 메서드\"\"\"\n",
    "        print(f\"[{self.name}, {self.age}, {self.dept}]\")\n",
    "\n",
    "# Employee 클래스의 객체 생성\n",
    "emp1 = Employee(\"홍길동\", \"개발부\", 30)# self에 자동 전달 > 생성되는 객체가 self에 전달됨 > __init__()을 자동 호출 > 생성된 객체를 반환\n",
    "emp2 = Employee(\"김철수\", \"마케팅부\", 27)\n",
    "\n",
    "# 직원 정보 출력\n",
    "emp1.show()  # 출력: [홍길동, 30, 개발부]\n",
    "emp2.show()  # 출력: [김철수, 27, 마케팅부]\n",
    "\n",
    "# 클래스 멤버는 기본적으로 public. \n",
    "print(f\"emp.name = {emp1.name}\") # public이다 \n",
    "emp1.age += 1\n",
    "print(f\"emp.age = {emp1.age}\")\n"
   ]
  },
  {
   "cell_type": "markdown",
   "metadata": {},
   "source": [
    "클래스의 protected, private 지원은 안된다???\n",
    "- 파이썬은 C++이나 Java처럼 엄격한 접근 제어자(private, protected, public)를 언어 차원에서 강제하지는 않는다\n",
    "- 기본은 public\n",
    "- convention(관례: _city), name mangling(이름 변경: __age) 사용으로 접근 제한 효과를 구현\n"
   ]
  },
  {
   "cell_type": "code",
   "execution_count": 4,
   "metadata": {},
   "outputs": [
    {
     "name": "stdout",
     "output_type": "stream",
     "text": [
      "홍길동 서울 30\n",
      "홍길동\n",
      "서울\n",
      "30\n"
     ]
    }
   ],
   "source": [
    "class Person:\n",
    "    def __init__(self):\n",
    "        self.name = \"홍길동\"        # public\n",
    "        self._city = \"서울\"        # protected (관례)\n",
    "        self.__age = 30            # private (name mangling)\n",
    "\n",
    "    def show(self):\n",
    "        print(self.name, self._city, self.__age)\n",
    "\n",
    "p = Person()\n",
    "p.show()\n",
    "\n",
    "print(p.name)       # public\n",
    "print(p._city)      # 밑줄 한개: subclass에서만 사용한다는 개발자의 약속 > 실제 외부 접근 가능\n",
    "#print(p.__age)      # 밑줄 두개: name mangling > 접근 에러\n",
    "\n",
    "# 하지만 아래처럼 강제로 접근 가능\n",
    "print(p._Person__age)  # (name mangling된 실제 이름으로 접근)\n"
   ]
  },
  {
   "cell_type": "markdown",
   "metadata": {},
   "source": [
    "### 9.2.3 속성 값 수정하기"
   ]
  },
  {
   "cell_type": "code",
   "execution_count": 3,
   "metadata": {},
   "outputs": [
    {
     "name": "stdout",
     "output_type": "stream",
     "text": [
      "홍길동\n"
     ]
    }
   ],
   "source": [
    "class Employee:\n",
    "    def __init__(self, name, age, coding):\n",
    "        self.__name = name  # private 멤버 > 멤버 이름 앞에 **밑줄 두 개(__)**를 붙이면 private처럼 동작\n",
    "        self.age = age\n",
    "        self.coding = coding\n",
    "\n",
    "emp = Employee(\"홍길동\", 20, 'java')\n",
    "emp.age += 1 # 클래스 멤버를 클래스 외부에서 변경 가능하나 비추 > 피해야 한다 :: 교재 235, 9.2.3 속성 값 수정하기 \n",
    "#print(emp.__name)  # 에러 발생 -> name mangle(난도질하다 망가트리다)으로 private 멤버처럼 접근 못하게 하는 것일 뿐이다 >>_classname__name으로 변경한다\n",
    "print(emp._Employee__name) #_Employee__name 이것이 name mangling이다 역설적으로 이를 통해 접근이 가능하다 \n",
    "#print(emp)\n",
    "#help(emp)"
   ]
  },
  {
   "cell_type": "markdown",
   "metadata": {},
   "source": [
    "함수에 객체를 전달시에 변경 가능한가?"
   ]
  },
  {
   "cell_type": "code",
   "execution_count": 2,
   "metadata": {},
   "outputs": [
    {
     "name": "stdout",
     "output_type": "stream",
     "text": [
      "Before change:\n",
      "[홍길동, 30, 개발부]\n",
      "\n",
      "change_employee() 함수내에서:\n",
      "[박영희, 31, 인사부]\n",
      "After change:\n",
      "[홍길동, 30, 개발부]\n"
     ]
    }
   ],
   "source": [
    "import copy # copy 모듈은 Python 표준 라이브러리에 포함된 모듈이므로, Python이 설치된 폴더 안에 있다\n",
    "##copy.py는 Python 설치 디렉터리 내 lib 폴더에 실제 .py 파일로 존재\n",
    "\n",
    "class Employee:\n",
    "    def __init__(self, name, dept, age):\n",
    "        self.name = name\n",
    "        self.dept = dept\n",
    "        self.age = age\n",
    "\n",
    "    def show(self):\n",
    "        \"\"\"[이름, 나이, 부서] 형식으로 직원 정보를 출력하는 메서드\"\"\"\n",
    "        print(f\"[{self.name}, {self.age}, {self.dept}]\")\n",
    "    \n",
    "    #@property # 속성을 읽기 전용으로 만드는 방법\n",
    "    #def age(self):\n",
    "    #    return self.age\n",
    "    \n",
    "def change_employee(emp): # 참조 변수로 전달하므로 수정 가능하다\n",
    "    \"\"\"Employee 객체의 속성을 변경하는 함수\"\"\"\n",
    "    emp.name = \"박영희\"  # 이름 변경\n",
    "    emp.age += 1        # 나이 1살 증가\n",
    "    emp.dept = \"인사부\"  # 부서 변경\n",
    "    print(\"\\nchange_employee() 함수내에서:\")\n",
    "    emp.show()\n",
    "\n",
    "# Employee 객체 생성\n",
    "emp1 = Employee(\"홍길동\", \"개발부\", 30)\n",
    "\n",
    "# 함수 호출 전 상태\n",
    "print(\"Before change:\")\n",
    "emp1.show()  # 출력: [홍길동, 30, 개발부]\n",
    "\n",
    "# Employee 객체를 함수의 인자로 전달\n",
    "#change_employee(emp1)\n",
    "change_employee(copy.deepcopy(emp1))\n",
    "# 함수 호출 후 상태\n",
    "print(\"After change:\")\n",
    "emp1.show()  # 출력: [박영희, 31, 인사부]"
   ]
  },
  {
   "cell_type": "code",
   "execution_count": null,
   "metadata": {},
   "outputs": [
    {
     "name": "stdout",
     "output_type": "stream",
     "text": [
      "Before change:\n",
      "[홍길동, 30, 개발부]\n",
      "After change:\n",
      "[홍길동, 31, 인사부]\n"
     ]
    }
   ],
   "source": [
    "# 메소드를 사용한 변경\n",
    "\n",
    "class Employee:\n",
    "    def __init__(self, name, dept, age):\n",
    "        self.name = name\n",
    "        self.dept = dept\n",
    "        self.age = age\n",
    "\n",
    "    def show(self):\n",
    "        \"\"\"[이름, 나이, 부서] 형식으로 직원 정보를 출력하는 메서드\"\"\"\n",
    "        print(f\"[{self.name}, {self.age}, {self.dept}]\")\n",
    "    \n",
    "    def change_employee(self, new_dept, age_increment):\n",
    "        \"\"\"부서, 나이를 변경하는 메서드\"\"\"\n",
    "        self.dept = new_dept  # 부서 변경\n",
    "        self.age += age_increment  # 나이 증가\n",
    "\n",
    "# Employee 객체 생성\n",
    "emp1 = Employee(\"홍길동\", \"개발부\", 30)\n",
    "\n",
    "# 함수 호출 전 상태\n",
    "print(\"Before change:\")\n",
    "emp1.show()  # 출력: [홍길동, 30, 개발부]\n",
    "\n",
    "# Employee 객체의 속성을 클래스 내부 메서드를 사용해 변경\n",
    "emp1.change_employee(\"인사부\", 1)\n",
    "\n",
    "# 함수 호출 후 상태\n",
    "print(\"After change:\")\n",
    "emp1.show()  # 출력: [박영희, 31, 인사부]"
   ]
  },
  {
   "cell_type": "markdown",
   "metadata": {},
   "source": [
    "## 9.3 클래스 상속"
   ]
  },
  {
   "cell_type": "code",
   "execution_count": null,
   "metadata": {},
   "outputs": [],
   "source": [
    "class Person:\n",
    "    def __init__(self, name, age):\n",
    "        self.name = name\n",
    "        self.age = age\n",
    "    \n",
    "    def show(self):\n",
    "        print(f)"
   ]
  },
  {
   "cell_type": "code",
   "execution_count": 3,
   "metadata": {},
   "outputs": [
    {
     "name": "stdout",
     "output_type": "stream",
     "text": [
      "Person info:\n",
      "Name: 홍길동, Age: 40\n",
      "\n",
      "Employee info:\n",
      "Name: 김철수, Age: 30\n",
      "Dept: 개발부, Salary: 5000\n"
     ]
    }
   ],
   "source": [
    "# Person 클래스 정의\n",
    "class Person:\n",
    "    def __init__(self, name, age):\n",
    "        self.name = name  # 이름\n",
    "        self.age = age    # 나이\n",
    "    \n",
    "    def show(self):\n",
    "        \"\"\"Person 클래스의 정보를 출력\"\"\"\n",
    "        print(f\"Name: {self.name}, Age: {self.age}\")\n",
    "\n",
    "# Employee 클래스는 Person 클래스를 상속\n",
    "class Employee(Person):\n",
    "    def __init__(self, name, age, dept, salary):\n",
    "        super().__init__(name, age)  # 부모 클래스(Person)의 생성자 호출\n",
    "        self.dept = dept             # 부서\n",
    "        self.salary = salary         # 급여\n",
    "    \n",
    "    def show(self): #메소드 오버라이드\n",
    "        \"\"\"Employee 클래스의 정보를 출력 (Person 클래스의 정보 포함)\"\"\"\n",
    "        #print(f\"Name: {self.name}, Age: {self.age}, Dept: {self.dept}, Salary: {self.salary}\")\n",
    "        ## Override\n",
    "        super().show()  # 부모 클래스의 show() 호출\n",
    "        print(f\"Dept: {self.dept}, Salary: {self.salary}\")\n",
    "\n",
    "# Person 객체 생성\n",
    "person1 = Person(\"홍길동\", 40)\n",
    "print(\"Person info:\")\n",
    "person1.show() \n",
    "\n",
    "# Employee 객체 생성\n",
    "employee1 = Employee(\"김철수\", 30, \"개발부\", 5000)\n",
    "print(\"\\nEmployee info:\")\n",
    "employee1.show() "
   ]
  },
  {
   "cell_type": "markdown",
   "metadata": {},
   "source": [
    "###클래스 작성 실습::\n",
    "- Vehicle: 기본 클래스, 색상, 중량, 가격을 속성으로 가짐.> color, weight, price\n",
    "\n",
    "- Car: Vehicle을 상속하며, 엔진과 탑승자 수를 추가로 가짐. > engine, passengers\n",
    "\n",
    "- Truck: Vehicle을 상속하며, 바퀴 수와 중량을 추가로 가짐. > wheels, load_weight"
   ]
  },
  {
   "cell_type": "code",
   "execution_count": null,
   "metadata": {},
   "outputs": [
    {
     "name": "stdout",
     "output_type": "stream",
     "text": [
      "Cars:\n",
      "color: Red weight: 1500 price: 20000\n",
      "engine: V6 passengers: 4\n",
      "color: Blue weight: 1400 price: 25000\n",
      "engine: V8 passengers: 5\n",
      "color: Black weight: 1600 price: 30000\n",
      "engine: Electric passengers: 4\n",
      "color: White weight: 1200 price: 18000\n",
      "engine: Hybrid passengers: 4\n",
      "color: Green weight: 1300 price: 22000\n",
      "engine: V6 passengers: 5\n",
      "\n",
      "Trucks:\n",
      "color: Yellow weight: 3000 price: 40000\n",
      "None engine: 8 passengers: 10000\n",
      "color: Blue weight: 3200 price: 45000\n",
      "None engine: 10 passengers: 12000\n",
      "color: White weight: 2800 price: 35000\n",
      "None engine: 6 passengers: 8000\n",
      "color: Black weight: 3500 price: 50000\n",
      "None engine: 12 passengers: 15000\n",
      "color: Red weight: 3400 price: 48000\n",
      "None engine: 10 passengers: 14000\n"
     ]
    }
   ],
   "source": [
    "# Vehicle 클래스 정의\n",
    "class Vehicle:\n",
    "    def __init__(self, color, weight, price):\n",
    "        self.color = color\n",
    "        self.weight = weight\n",
    "        self.price = price\n",
    "\n",
    "    def show(self):\n",
    "        print(f\"color: {self.color} weight: {self.weight} price: {self.price}\")\n",
    "\n",
    "\n",
    "# Car 클래스 (Vehicle의 서브클래스)\n",
    "class Car(Vehicle):\n",
    "    def __init__(self, color, weight, price, engine, passengers):\n",
    "        super().__init__(color, weight, price)\n",
    "        self.engine = engine\n",
    "        self.passengers = passengers\n",
    "\n",
    "    def show(self):\n",
    "        super().show()\n",
    "        print(f\"engine: {self.engine} passengers: {self.passengers}\")\n",
    "\n",
    "# Truck 클래스 (Vehicle의 서브클래스)\n",
    "class Truck(Vehicle):\n",
    "    def __init__(self, color, weight, price, engine, passengers):\n",
    "        super().__init__(color, weight, price)\n",
    "        self.engine = engine\n",
    "        self.passengers = passengers\n",
    "\n",
    "    def show(self):\n",
    "        super().show()\n",
    "        print(f\"engine: {self.engine} passengers: {self.passengers}\")\n",
    "\n",
    "\n",
    "# Car 객체 5개 생성\n",
    "car_list = [\n",
    "    Car(\"Red\", 1500, 20000, \"V6\", 4),\n",
    "    Car(\"Blue\", 1400, 25000, \"V8\", 5),\n",
    "    Car(\"Black\", 1600, 30000, \"Electric\", 4),\n",
    "    Car(\"White\", 1200, 18000, \"Hybrid\", 4),\n",
    "    Car(\"Green\", 1300, 22000, \"V6\", 5)\n",
    "]\n",
    "\n",
    "# Truck 객체 5개 생성\n",
    "truck_list = [\n",
    "    Truck(\"Yellow\", 3000, 40000, 8, 10000),\n",
    "    Truck(\"Blue\", 3200, 45000, 10, 12000),\n",
    "    Truck(\"White\", 2800, 35000, 6, 8000),\n",
    "    Truck(\"Black\", 3500, 50000, 12, 15000),\n",
    "    Truck(\"Red\", 3400, 48000, 10, 14000)\n",
    "]\n",
    "\n",
    "# 생성된 객체들 출력 - show()를 사용한 출력 코딩 \n",
    "print(\"Cars:\")\n",
    "for car in car_list:\n",
    "    car.show()\n",
    "\n",
    "\n",
    "print(\"\\nTrucks:\")\n",
    "for truck in truck_list:\n",
    "    truck.show()\n",
    "    \n"
   ]
  },
  {
   "cell_type": "markdown",
   "metadata": {},
   "source": [
    "### 9.3.3 Override 실습"
   ]
  },
  {
   "cell_type": "code",
   "execution_count": 17,
   "metadata": {},
   "outputs": [
    {
     "name": "stdout",
     "output_type": "stream",
     "text": [
      "Animal speaks\n",
      "Dog barks\n",
      "Animal speaks\n",
      "Cat meows\n"
     ]
    }
   ],
   "source": [
    "class Animal:\n",
    "    def speak(self):\n",
    "        print(\"Animal speaks\")\n",
    "\n",
    "class Dog(Animal):\n",
    "    def speak(self):  # 메서드 오버라이딩\n",
    "        print(\"Dog barks\")\n",
    "\n",
    "class Cat(Animal):\n",
    "    def show(self):\n",
    "        print(\" good\")\n",
    "    def speak(self): ##override\n",
    "        super().speak() # super.speak() > 자바식 표현 \n",
    "        print(\"Cat meows\")\n",
    "\n",
    "# 객체 생성\n",
    "animal = Animal()\n",
    "dog = Dog()\n",
    "cat = Cat()\n",
    "\n",
    "# 메서드 호출\n",
    "animal.speak()  # 출력: Animal speaks\n",
    "dog.speak()     # 출력: Dog barks\n",
    "cat.speak()     # 출력: Cat meows"
   ]
  },
  {
   "cell_type": "markdown",
   "metadata": {},
   "source": [
    "###has-a 표현"
   ]
  },
  {
   "cell_type": "code",
   "execution_count": null,
   "metadata": {},
   "outputs": [
    {
     "name": "stdout",
     "output_type": "stream",
     "text": [
      "Person info:\n",
      "Name: 홍길동, Age: 40\n",
      "\n",
      "Employee info:\n",
      "Name: 김철수, Age: 30\n",
      "Department: 개발부\n",
      "Salary: 5000\n"
     ]
    }
   ],
   "source": [
    "# Dept 클래스 정의\n",
    "class Dept:\n",
    "    def __init__(self, name):\n",
    "        self.name = name  # 부서 이름\n",
    "\n",
    "    def show(self):\n",
    "        \"\"\"부서 정보를 출력\"\"\"\n",
    "        print(f\"Department: {self.name}\")\n",
    "\n",
    "# Person 클래스 정의\n",
    "class Person:\n",
    "    def __init__(self, name, age):\n",
    "        self.name = name  # 이름\n",
    "        self.age = age    # 나이\n",
    "    \n",
    "    def show(self):\n",
    "        \"\"\"Person 클래스의 정보를 출력\"\"\"\n",
    "        print(f\"Name: {self.name}, Age: {self.age}\")\n",
    "\n",
    "# Employee 클래스는 Person 클래스를 상속\n",
    "class Employee(Person):\n",
    "    def __init__(self, name, age, dept, salary):\n",
    "        super().__init__(name, age)  # 부모 클래스(Person)의 생성자 호출\n",
    "        self.dept = []             # Dept 객체를 저장 > 객체 자체를 저장 이것을 has-a 관계\n",
    "        self.salary = salary         # 급여\n",
    "\n",
    "    def addDept(self, dept):\n",
    "        self.dept.append(dept)\n",
    "    \n",
    "    def show(self):\n",
    "        \"\"\"Employee 클래스의 정보를 출력 (Person 클래스의 정보 포함)\"\"\"\n",
    "        super().show()  # 부모 클래스의 show() 호출 - name, age 출력\n",
    "        self.dept.show()  # Dept 객체의 show() 호출 - 부서 정보 출력\n",
    "        print(f\"Salary: {self.salary}\") \n",
    "\n",
    "# Person 객체 생성\n",
    "person1 = Person(\"홍길동\", 40)\n",
    "print(\"Person info:\")\n",
    "person1.show() \n",
    "\n",
    "# Dept 객체 생성\n",
    "dept1 = Dept(\"개발부\")\n",
    "\n",
    "# Employee 객체 생성 (Dept 객체를 포함)\n",
    "employee1 = Employee(\"김철수\", 30, dept1, 5000)\n",
    "print(\"\\nEmployee info:\")\n",
    "employee1.show()"
   ]
  },
  {
   "cell_type": "markdown",
   "metadata": {},
   "source": [
    "- 특수 메소드: 더블언더 메소드(dunder method)> 매직 메소드\n",
    "\n",
    "-  던더메소드 __str__() 메서드는 객체를 문자열로 표현할 때 자동으로 호출되는 내장 메서드"
   ]
  },
  {
   "cell_type": "code",
   "execution_count": 10,
   "metadata": {},
   "outputs": [],
   "source": [
    "class Person:\n",
    "    def __init__(self, name, age):# 객체 생성 시 __init__() 자동 호출\n",
    "        self.name = name\n",
    "        self.age = age\n",
    "# __str__과 __repr__은 파이썬 객체를 문자열로 표현할 때 사용하는 특별 메서드(던더 메서드)이며, \n",
    "# 비슷해 보이지만 용도와 목적이 다르다.\n",
    "    def __str__(self):\n",
    "        return f'Person(이름: {self.name}, 나이: {self.age})'\n",
    "    \n",
    "    def __repr__(self): #representation (표현)\n",
    "         ### 객체를 개발자용 또는 디버깅용 문자열로 표현할 수 있게 하는 메서드\n",
    "        return f\"Person('{self.name}', {self.age})\""
   ]
  },
  {
   "cell_type": "code",
   "execution_count": null,
   "metadata": {},
   "outputs": [
    {
     "name": "stdout",
     "output_type": "stream",
     "text": [
      "Person(이름: 홍길동, 나이: 30)\n"
     ]
    }
   ],
   "source": [
    "p = Person(\"홍길동\", 30) # __init__() 자동 호출 -> 던더 메소드(double under method)\n",
    "print(p) # 자동 호출되는 메소드: __str__() 호출됨"
   ]
  },
  {
   "cell_type": "code",
   "execution_count": 17,
   "metadata": {},
   "outputs": [
    {
     "name": "stdout",
     "output_type": "stream",
     "text": [
      "Person(이름: 홍길동, 나이: 30) Employee(부서: Department(부서명: 영업))\n",
      "Person(이름: 강감찬, 나이: 25) Employee(부서: Department(부서명: 코딩))\n",
      "Person(이름: 을지문덕, 나이: 28) Employee(부서: Department(부서명: 설계))\n",
      "Person(이름: 김유신, 나이: 35) Employee(부서: Department(부서명: 영업))\n",
      "Person(이름: 계백, 나이: 27) Employee(부서: Department(부서명: 코딩))\n",
      "[Person('홍길동', 30), Person('강감찬', 25), Person('을지문덕', 28), Person('김유신', 35), Person('계백', 27)]\n"
     ]
    }
   ],
   "source": [
    "\n",
    "class Department:\n",
    "    def __init__(self, name):# 객체 생성 시 __init__() 자동 호출\n",
    "        self.name = name\n",
    "\n",
    "    def __str__(self):\n",
    "        return f'Department(부서명: {self.name})'\n",
    "\n",
    "\n",
    "class Employee(Person):\n",
    "    def __init__(self, name, age, department):\n",
    "        super().__init__(name, age)\n",
    "        self.department = department\n",
    "\n",
    "    def __str__(self):\n",
    "        #super().__str__()\n",
    "        #return f'Employee(이름: {self.name}, 나이: {self.age}, 부서: {self.department})'\n",
    "        return f'{super().__str__()} Employee(부서: {self.department})'\n",
    "\n",
    "\n",
    "# 부서 생성\n",
    "dept1 = Department(\"영업\")\n",
    "dept2 = Department(\"코딩\")\n",
    "dept3 = Department(\"설계\")\n",
    "\n",
    "# Employee 객체 5개 생성\n",
    "employees = [\n",
    "    Employee(\"홍길동\", 30, dept1),\n",
    "    Employee(\"강감찬\", 25, dept2),\n",
    "    Employee(\"을지문덕\", 28, dept3),\n",
    "    Employee(\"김유신\", 35, dept1),\n",
    "    Employee(\"계백\", 27, dept2)\n",
    "]\n",
    "\n",
    "for emp in employees:\n",
    "    print(emp)\n",
    "\n",
    "print(employees)"
   ]
  },
  {
   "cell_type": "markdown",
   "metadata": {},
   "source": [
    "print(p) → __str__ 우선, 없으면 __repr__\n",
    "\n",
    "리스트, 딕셔너리 출력 시 → __repr__ 사용\n",
    "\n",
    "디버깅, 로그 출력 → __repr__이 더 정확하고 유용함"
   ]
  },
  {
   "cell_type": "code",
   "execution_count": 20,
   "metadata": {},
   "outputs": [
    {
     "name": "stdout",
     "output_type": "stream",
     "text": [
      "Person(이름: 김유신, 나이: 25) Person(이름: 이순신, 나이: 40)\n",
      "[Person('김유신', 25), Person('이순신', 40)]\n",
      "Person(이름: 김유신, 나이: 25)\n",
      "Person(이름: 이순신, 나이: 40)\n"
     ]
    }
   ],
   "source": [
    "people = [Person(\"김유신\", 25), Person(\"이순신\", 40)]\n",
    "\n",
    "print(*people)\n",
    "print(people)  # __repr__ 자동 호출되어 출력\n",
    "# [Person('김유신', 25), Person('이순신', 40)]\n",
    "\n",
    "\n",
    "for p in people:\n",
    "    print(p) # __str__() 자동 호출되어 출력"
   ]
  },
  {
   "cell_type": "markdown",
   "metadata": {},
   "source": [
    "더블 언더 메서드(dunder method)는 파이썬에서 특별한 의미를 가지는 메서드\n",
    "객체의 행동을 정의하는 데 사용. \n",
    "\n",
    "__str__, __repr__, __eq__, __len__ 등"
   ]
  },
  {
   "cell_type": "code",
   "execution_count": null,
   "metadata": {},
   "outputs": [
    {
     "name": "stdout",
     "output_type": "stream",
     "text": [
      "Employee(Name: 홍길동, Age: 30, Department: Department(Name: 개발))\n",
      "Employee(name='이광수', age=25, department=Department(name='코딩'))\n",
      "False\n",
      "False\n",
      "False\n",
      "7\n",
      "5\n"
     ]
    }
   ],
   "source": [
    "class Person:\n",
    "    def __init__(self, name, age):\n",
    "        self.name = name\n",
    "        self.age = age\n",
    "\n",
    "    def __str__(self):\n",
    "        return f'Person(Name: {self.name}, Age: {self.age})'\n",
    "\n",
    "    def __repr__(self):\n",
    "        return f'Person(name={self.name!r}, age={self.age!r})'\n",
    "\n",
    "    def __eq__(self, other):\n",
    "        if isinstance(other, Person):\n",
    "            return self.name == other.name and self.age == other.age\n",
    "        return False\n",
    "\n",
    "    def __len__(self):\n",
    "        return len(self.name) + len(str(self.age))  # 이름과 나이의 길이 합\n",
    "\n",
    "\n",
    "class Department:\n",
    "    def __init__(self, name):\n",
    "        self.name = name\n",
    "\n",
    "    def __str__(self):\n",
    "        return f'Department(Name: {self.name})'\n",
    "\n",
    "    def __repr__(self):\n",
    "        return f'Department(name={self.name!r})'\n",
    "\n",
    "\n",
    "class Employee(Person):\n",
    "    def __init__(self, name, age, department):\n",
    "        super().__init__(name, age)\n",
    "        self.department = department\n",
    "\n",
    "    def __str__(self):\n",
    "        return f'Employee(Name: {self.name}, Age: {self.age}, Department: {self.department})'\n",
    "\n",
    "    def __repr__(self):\n",
    "        return f'Employee(name={self.name!r}, age={self.age!r}, department={self.department!r})'\n",
    "\n",
    "    def __eq__(self, other):\n",
    "        if isinstance(other, Employee):\n",
    "            return super().__eq__(other) and self.department == other.department\n",
    "        return False\n",
    "\n",
    "    def __len__(self):\n",
    "        return len(self.name) + len(str(self.age)) + len(self.department.name)  # 이름, 나이, 부서의 길이 합\n",
    "\n",
    "\n",
    "# 부서 생성\n",
    "dept1 = Department(\"개발\")\n",
    "dept2 = Department(\"코딩\")\n",
    "\n",
    "# Employee 객체 2개 생성\n",
    "emp1 = Employee(\"홍길동\", 30, dept1)\n",
    "emp2 = Employee(\"이광수\", 25, dept2)\n",
    "\n",
    "# 객체 출력\n",
    "print(emp1)  # __str__ 사용\n",
    "print(repr(emp2))  # __repr__ 사용\n",
    "\n",
    "# 객체 비교\n",
    "print(emp1 == emp2)  # __eq__ 사용\n",
    "\n",
    "# Person 객체와 비교\n",
    "person1 = Person(\"강감찬\", 30)\n",
    "print(emp1 == person1)  # False (다른 클래스 비교)\n",
    "print(emp1 == emp2)  # False (같은 클래스 비교)\n",
    "# 길이 출력\n",
    "print(len(emp1))  # Employee 객체의 길이\n",
    "print(len(person1))  # Employee 객체의 길이"
   ]
  },
  {
   "cell_type": "markdown",
   "metadata": {},
   "source": [
    "### 객체를 함수처럼 호출할 수 있게 하는 def __call__()\n",
    "\n",
    "### 객체의 자동 소멸 시점: 참조 카운트가 0이 될 때\n",
    "\n",
    "파이썬은 **가비지 컬렉션(Garbage Collection)**을 사용하여\n",
    "\n",
    "사용되지 않는 객체를 자동으로 제거"
   ]
  },
  {
   "cell_type": "code",
   "execution_count": null,
   "metadata": {},
   "outputs": [
    {
     "name": "stdout",
     "output_type": "stream",
     "text": [
      "Employee(Name: 홍길동, Age: 30, Department: Department(Name: 개발))\n",
      "Employee(name='이광수', age=25, department=Department(name='코딩'))\n",
      "False\n",
      "False\n",
      "7\n",
      "7\n",
      "나이 변경전: Employee(Name: 홍길동, Age: 30, Department: Department(Name: 개발))\n",
      "나이 변경후: Employee(Name: 홍길동, Age: 35, Department: Department(Name: 개발))\n",
      "소멸 홍길동\n",
      "<class '__main__.Employee'>\n"
     ]
    }
   ],
   "source": [
    "class Person:\n",
    "    def __init__(self, name, age):\n",
    "        self.name = name\n",
    "        self.age = age\n",
    "\n",
    "    def __str__(self):\n",
    "        return f'Person(Name: {self.name}, Age: {self.age})'\n",
    "\n",
    "    def __repr__(self):\n",
    "        return f'Person(name={self.name!r}, age={self.age!r})'\n",
    "\n",
    "    def __eq__(self, other):\n",
    "        if isinstance(other, Person):\n",
    "            return self.name == other.name and self.age == other.age\n",
    "        return False\n",
    "\n",
    "    def __len__(self):\n",
    "        return len(self.name) + len(str(self.age))\n",
    "\n",
    "\n",
    "class Department:\n",
    "    def __init__(self, name):\n",
    "        self.name = name\n",
    "\n",
    "    def __str__(self):\n",
    "        return f'Department(Name: {self.name})'\n",
    "\n",
    "    def __repr__(self):\n",
    "        return f'Department(name={self.name!r})'\n",
    "\n",
    "\n",
    "class Employee(Person):\n",
    "    def __init__(self, name, age, department):\n",
    "        super().__init__(name, age)\n",
    "        self.department = department\n",
    "\n",
    "    def __str__(self):\n",
    "        return f'Employee(Name: {self.name}, Age: {self.age}, Department: {self.department})'\n",
    "\n",
    "    def __repr__(self):\n",
    "        return f'Employee(name={self.name!r}, age={self.age!r}, department={self.department!r})'\n",
    "\n",
    "    def __eq__(self, other):\n",
    "        if isinstance(other, Employee):\n",
    "            return super().__eq__(other) and self.department == other.department\n",
    "        return False\n",
    "\n",
    "    def __len__(self):\n",
    "        return len(self.name) + len(str(self.age)) + len(self.department.name)\n",
    "\n",
    "    def __call__(self, new_age): # 객체를 함수처럼 호출할 수 있게 만들어주는 특별한 메서드\n",
    "        self.age = new_age  # 나이를 업데이트하는 메서드\n",
    "    \n",
    "    def __del__(self):\n",
    "        print(\"소멸 {}\".format(self.name)) # __del__() 메서드는 객체가 소멸될 때 자동으로 호출되며, 이 메서드 내부에 특정 작업을 수행할 수 있음을 보이는 것\n",
    "\n",
    "\n",
    "\n",
    "# 부서 생성\n",
    "dept1 = Department(\"개발\")\n",
    "dept2 = Department(\"코딩\")\n",
    "\n",
    "# Employee 객체 2개 생성\n",
    "emp1 = Employee(\"홍길동\", 30, dept1)\n",
    "emp2 = Employee(\"이광수\", 25, dept2)\n",
    "\n",
    "# 객체 출력\n",
    "print(emp1)  # __str__ 사용\n",
    "print(repr(emp2))  # __repr__ 사용\n",
    "\n",
    "# 객체 비교\n",
    "print(emp1 == emp2)  # __eq__ 사용\n",
    "\n",
    "# Person 객체와 비교\n",
    "person1 = Person(\"강감찬\", 30)\n",
    "print(emp1 == person1)  # emp1의 클래스인 Employee의 __eq__() 메서드가 호출\n",
    "\n",
    "# 길이 출력\n",
    "print(len(emp1))  # Employee 객체의 길이 > __len__() 자동호출\n",
    "print(len(emp2))  # Employee 객체의 길이\n",
    "\n",
    "# __call__ 메서드 사용\n",
    "print(f\"나이 변경전: {emp1}\") \n",
    "emp1(35)  # 객체 내부에 __call__()이 정의되어 있으면, obj() 문법이 자동으로 obj.__call__()을 호출\n",
    "## 머신러닝 모델 객체를 model(input)처럼 호출\n",
    "print(f\"나이 변경후: {emp1}\")\n",
    "\n",
    "del emp1\n",
    "\n",
    "if (isinstance(emp2, Employee)):\n",
    "    print(type(emp2))\n"
   ]
  },
  {
   "cell_type": "markdown",
   "metadata": {},
   "source": [
    "## 9.4 클래스 import > 교재 249페이지를 사용"
   ]
  },
  {
   "cell_type": "markdown",
   "metadata": {},
   "source": []
  },
  {
   "cell_type": "code",
   "execution_count": 23,
   "metadata": {},
   "outputs": [
    {
     "name": "stdout",
     "output_type": "stream",
     "text": [
      "2019 Subaru Outback\n",
      "This car has 23500 miles on it.\n",
      "This car has 23600 miles on it.\n"
     ]
    }
   ],
   "source": [
    "from car import Car\n",
    "\n",
    "my_used_car = Car('subaru', 'outback', 2019)\n",
    "print(my_used_car.get_descriptive_name())\n",
    "\n",
    "my_used_car.update_odometer(23_500)\n",
    "my_used_car.read_odometer()\n",
    "\n",
    "my_used_car.increment_odometer(100)\n",
    "my_used_car.read_odometer()\n",
    "\n"
   ]
  },
  {
   "cell_type": "code",
   "execution_count": 24,
   "metadata": {},
   "outputs": [
    {
     "name": "stdout",
     "output_type": "stream",
     "text": [
      "2024 Nissan Leaf\n",
      "This car has a 40-kWh battery.\n",
      "This car can go about 150 miles on a full charge.\n",
      "2024 Kia K7\n"
     ]
    }
   ],
   "source": [
    "# 교재 P250 코드 사용\n",
    "from electric_car import ElectricCar, Car\n",
    "\n",
    "my_leaf = ElectricCar('nissan', 'leaf', 2024)\n",
    "print(my_leaf.get_descriptive_name())\n",
    "my_leaf.battery.describe_battery()\n",
    "my_leaf.battery.get_range()\n",
    "\n",
    "mycar = Car('kia', 'k7', 2024)\n",
    "print(mycar.get_descriptive_name())"
   ]
  },
  {
   "cell_type": "markdown",
   "metadata": {},
   "source": [
    "파이썬 표준 라이브러리: 교재 256페이지 "
   ]
  },
  {
   "cell_type": "code",
   "execution_count": null,
   "metadata": {},
   "outputs": [
    {
     "name": "stdout",
     "output_type": "stream",
     "text": [
      "2차원 행렬 (0과 1 사이의 난수):\n",
      "[0.08257767589640708, 0.23660512257894162, 0.3052433334479018, 0.7978958419969273]\n",
      "[0.1228831782553359, 0.2992135295609466, 0.9151635091314576, 0.8641707075318046]\n",
      "[0.9681642055357077, 0.06142898260425789, 0.851971204164697, 0.3330992311491665]\n",
      "\n",
      "2차원 행렬 (정수 난수, 0부터 9까지):\n",
      "[5, 8, 8, 9]\n",
      "[7, 9, 7, 2]\n",
      "[1, 8, 1, 3]\n"
     ]
    }
   ],
   "source": [
    "import random # random.py라는 파일로 구현\n",
    "## C:\\Users\\<사용자명>\\AppData\\Local\\Programs\\Python\\Python<버전>\\Lib\\random.py\n",
    "\n",
    "\n",
    "# 행렬의 크기 설정\n",
    "rows = 3  # 행의 개수\n",
    "cols = 4  # 열의 개수\n",
    "\n",
    "# 0과 1 사이의 난수로 2차원 행렬 생성\n",
    "matrix = [[random.uniform(0, 1) for _ in range(cols)] for _ in range(rows)]\n",
    "\n",
    "# 결과 출력\n",
    "print(\"2차원 행렬 (0과 1 사이의 난수):\")\n",
    "for row in matrix:\n",
    "    print(row)\n",
    "\n",
    "# 정수 범위의 난수 생성 (예: 0부터 10까지)\n",
    "int_matrix = [[random.randint(0, 9) for _ in range(cols)] for _ in range(rows)]\n",
    "\n",
    "print(\"\\n2차원 행렬 (정수 난수, 0부터 9까지):\")\n",
    "for row in int_matrix:\n",
    "    print(row)"
   ]
  },
  {
   "cell_type": "code",
   "execution_count": 5,
   "metadata": {},
   "outputs": [
    {
     "name": "stdout",
     "output_type": "stream",
     "text": [
      "c:\\Users\\bhhong\\AppData\\Local\\Programs\\Python\\Python39\\lib\\random.py\n"
     ]
    }
   ],
   "source": [
    "import random\n",
    "print(random.__file__)\n"
   ]
  },
  {
   "cell_type": "code",
   "execution_count": 6,
   "metadata": {},
   "outputs": [
    {
     "name": "stdout",
     "output_type": "stream",
     "text": [
      "c:\\Users\\bhhong\\AppData\\Local\\Programs\\Python\\Python39\\lib\\site-packages\\numpy\\__init__.py\n"
     ]
    }
   ],
   "source": [
    "import numpy\n",
    "print(numpy.__file__)\n"
   ]
  },
  {
   "cell_type": "markdown",
   "metadata": {},
   "source": [
    "- site-packages 폴더는 pip로 설치한 외부 패키지들이 저장되는 폴더\n",
    "- numpy는 Python 표준 라이브러리에는 포함되지 않는다\n",
    "- pip install numpy 명령어로 설치한 **외부 패키지 (third-party library)**"
   ]
  },
  {
   "cell_type": "code",
   "execution_count": null,
   "metadata": {},
   "outputs": [
    {
     "name": "stdout",
     "output_type": "stream",
     "text": [
      "Name: numpy\n",
      "Version: 1.26.4\n",
      "Summary: Fundamental package for array computing in Python\n",
      "Home-page: https://numpy.org\n",
      "Author: Travis E. Oliphant et al.\n",
      "Author-email: \n",
      "License: Copyright (c) 2005-2023, NumPy Developers.\n",
      "All rights reserved.\n",
      "\n",
      "Redistribution and use in source and binary forms, with or without\n",
      "modification, are permitted provided that the following conditions are\n",
      "met:\n",
      "\n",
      "    * Redistributions of source code must retain the above copyright\n",
      "       notice, this list of conditions and the following disclaimer.\n",
      "\n",
      "    * Redistributions in binary form must reproduce the above\n",
      "       copyright notice, this list of conditions and the following\n",
      "       disclaimer in the documentation and/or other materials provided\n",
      "       with the distribution.\n",
      "\n",
      "    * Neither the name of the NumPy Developers nor the names of any\n",
      "       contributors may be used to endorse or promote products derived\n",
      "       from this software without specific prior written permission.\n",
      "\n",
      "THIS SOFTWARE IS PROVIDED BY THE COPYRIGHT HOLDERS AND CONTRIBUTORS\n",
      "\"AS IS\" AND ANY EXPRESS OR IMPLIED WARRANTIES, INCLUDING, BUT NOT\n",
      "LIMITED TO, THE IMPLIED WARRANTIES OF MERCHANTABILITY AND FITNESS FOR\n",
      "A PARTICULAR PURPOSE ARE DISCLAIMED. IN NO EVENT SHALL THE COPYRIGHT\n",
      "OWNER OR CONTRIBUTORS BE LIABLE FOR ANY DIRECT, INDIRECT, INCIDENTAL,\n",
      "SPECIAL, EXEMPLARY, OR CONSEQUENTIAL DAMAGES (INCLUDING, BUT NOT\n",
      "LIMITED TO, PROCUREMENT OF SUBSTITUTE GOODS OR SERVICES; LOSS OF USE,\n",
      "DATA, OR PROFITS; OR BUSINESS INTERRUPTION) HOWEVER CAUSED AND ON ANY\n",
      "THEORY OF LIABILITY, WHETHER IN CONTRACT, STRICT LIABILITY, OR TORT\n",
      "(INCLUDING NEGLIGENCE OR OTHERWISE) ARISING IN ANY WAY OUT OF THE USE\n",
      "OF THIS SOFTWARE, EVEN IF ADVISED OF THE POSSIBILITY OF SUCH DAMAGE.\n",
      "Location: C:\\Users\\bhhong\\anaconda3\\Lib\\site-packages\n",
      "Requires: \n",
      "Required-by: altair, astropy, bokeh, Bottleneck, contourpy, datashader, gensim, h5py, holoviews, hvplot, imagecodecs, imageio, imbalanced-learn, keras, matplotlib, mglearn, mkl-fft, mkl-random, ml_dtypes, numba, numexpr, pandas, patsy, pyarrow, pydeck, pyerfa, pywavelets, scikit-image, scikit-learn, scipy, seaborn, statsmodels, streamlit, tables, tensorboard, tensorflow, tifffile, torchvision, xarray, yfinance\n"
     ]
    }
   ],
   "source": [
    "#설치 여부 확인\n",
    "!pip show numpy"
   ]
  },
  {
   "cell_type": "code",
   "execution_count": null,
   "metadata": {},
   "outputs": [
    {
     "name": "stdout",
     "output_type": "stream",
     "text": [
      "2차원 행렬 (0과 1 사이의 난수):\n",
      "[[0.71636029 0.84883612 0.31270594 0.83986828]\n",
      " [0.51934875 0.31424073 0.26160045 0.95511905]\n",
      " [0.40005135 0.00183565 0.58628794 0.15435145]]\n",
      "\n",
      "2차원 행렬 (정수 난수, 0부터 10까지):\n",
      "[[7 6 0 8]\n",
      " [1 0 0 0]\n",
      " [6 0 2 9]]\n"
     ]
    }
   ],
   "source": [
    "import numpy as np\n",
    "import pandas as pd\n",
    "\n",
    "# 행렬의 크기 설정\n",
    "rows = 3  # 행의 개수\n",
    "cols = 4  # 열의 개수\n",
    "\n",
    "# 0과 1 사이의 난수로 2차원 행렬 생성\n",
    "matrix = np.random.rand(rows, cols)\n",
    "\n",
    "# 결과 출력\n",
    "print(\"2차원 행렬 (0과 1 사이의 난수):\")\n",
    "print(matrix)\n",
    "\n",
    "# 정수 범위의 난수 생성 (예: 0부터 10까지)\n",
    "int_matrix = np.random.randint(0, 10, size=(rows, cols))\n",
    "\n",
    "print(\"\\n2차원 행렬 (정수 난수, 0부터 10까지):\")\n",
    "print(int_matrix)"
   ]
  },
  {
   "cell_type": "code",
   "execution_count": 24,
   "metadata": {},
   "outputs": [
    {
     "name": "stdout",
     "output_type": "stream",
     "text": [
      "beauty\n",
      "beauty\n",
      "java\n",
      "go\n",
      "come\n"
     ]
    }
   ],
   "source": [
    "from random import choice\n",
    "lst = ['good','nice','beauty','follow','go','come','java']\n",
    "for _ in range(5):\n",
    "    rnd = choice(lst)\n",
    "    print(rnd)\n"
   ]
  },
  {
   "cell_type": "markdown",
   "metadata": {},
   "source": [
    "클래스 변수와 클래스  메소드 사용 "
   ]
  },
  {
   "cell_type": "code",
   "execution_count": 32,
   "metadata": {},
   "outputs": [
    {
     "name": "stdout",
     "output_type": "stream",
     "text": [
      "부서갯수: 0\n",
      "사람수: 0\n",
      "직원수: 0\n",
      "이름: 홍길동, 나이: 30\n",
      "부서명: 설계\n",
      "월급: 50000\n",
      "이름: 강감찬, 나이: 25\n",
      "부서명: 코딩\n",
      "월급: 60000\n",
      "부서갯수: 2\n",
      "사람수: 2\n",
      "직원수: 2\n"
     ]
    }
   ],
   "source": [
    "# Dept 클래스 정의\n",
    "class Dept:\n",
    "    total_departments = 0  # 클래스 변수\n",
    "\n",
    "    def __init__(self, name):\n",
    "        self.name = name  # 부서 이름\n",
    "        Dept.total_departments += 1  # 부서가 생성될 때마다 클래스 변수를 증가\n",
    "    \n",
    "    def show(self):\n",
    "        \"\"\"부서 정보를 출력\"\"\"\n",
    "        print(f\"부서명: {self.name}\")\n",
    "\n",
    "    @classmethod\n",
    "    def show_total_departments(cls): #cls는 클래스 자체를 가리키는 참조변수\n",
    "        \"\"\"전체 부서 수를 출력하는 클래스 메소드\"\"\"\n",
    "        print(f\"부서갯수: {cls.total_departments}\") #cls는 클래스 메서드가 호출되는 클래스 자체를 가리킨다\n",
    "\n",
    "\n",
    "# Person 클래스 정의\n",
    "class Person:\n",
    "    total_persons = 0  # 클래스 변수\n",
    "\n",
    "    def __init__(self, name, age):\n",
    "        self.name = name  # 이름\n",
    "        self.age = age    # 나이\n",
    "        Person.total_persons += 1  # Person 객체가 생성될 때마다 클래스 변수를 증가\n",
    "    \n",
    "    def show(self):\n",
    "        \"\"\"Person 클래스의 정보를 출력\"\"\"\n",
    "        print(f\"이름: {self.name}, 나이: {self.age}\")\n",
    "\n",
    "    @classmethod\n",
    "    def show_total_persons(cls):\n",
    "        \"\"\"전체 사람 수를 출력하는 클래스 메소드\"\"\"\n",
    "        print(f\"사람수: {cls.total_persons}\")\n",
    "\n",
    "\n",
    "# Employee 클래스는 Person 클래스를 상속\n",
    "class Employee(Person):\n",
    "    total_employees = 0  # 클래스 변수\n",
    "\n",
    "    def __init__(self, name, age, dept, salary):\n",
    "        super().__init__(name, age)  # 부모 클래스(Person)의 생성자 호출\n",
    "        self.dept = dept             # Dept 객체를 저장\n",
    "        self.salary = salary         # 급여\n",
    "        Employee.total_employees += 1  # Employee 객체가 생성될 때마다 클래스 변수를 증가\n",
    "    \n",
    "    def show(self):\n",
    "        \"\"\"Employee 클래스의 정보를 출력 (Person 클래스의 정보 포함)\"\"\"\n",
    "        super().show()  # 부모 클래스의 show() 호출\n",
    "        self.dept.show()  # Dept 객체의 show() 호출\n",
    "        print(f\"월급: {self.salary}\")\n",
    "\n",
    "    @classmethod\n",
    "    def show_total_employees(cls):\n",
    "        \"\"\"전체 직원 수를 출력하는 클래스 메소드\"\"\"\n",
    "        print(f\"직원수: {cls.total_employees}\")\n",
    "\n",
    "# 클래스 메소드 호출\n",
    "Dept.show_total_departments() #cls는 Dept를 받는다 \n",
    "Person.show_total_persons()\n",
    "Employee.show_total_employees()\n",
    "\n",
    "# 예시 사용\n",
    "dept1 = Dept(\"설계\")\n",
    "dept2 = Dept(\"코딩\")\n",
    "\n",
    "emp1 = Employee(\"홍길동\", 30, dept1, 50000)\n",
    "emp2 = Employee(\"강감찬\", 25, dept2, 60000)\n",
    "\n",
    "# 각 클래스의 인스턴스 메소드 호출\n",
    "emp1.show()\n",
    "emp2.show()\n",
    "\n",
    "# 클래스 메소드 호출\n",
    "Dept.show_total_departments() #cls는 Dept를 받는다 \n",
    "Person.show_total_persons()\n",
    "Employee.show_total_employees()"
   ]
  },
  {
   "cell_type": "markdown",
   "metadata": {},
   "source": [
    "리스트와 튜플의 unpacking 사용"
   ]
  },
  {
   "cell_type": "code",
   "execution_count": 27,
   "metadata": {},
   "outputs": [
    {
     "name": "stdout",
     "output_type": "stream",
     "text": [
      "[1, 2, 3, 4, 5, 6]\n",
      "1 2 3\n"
     ]
    }
   ],
   "source": [
    "a=[1,2,3]\n",
    "b=[4,5,6]\n",
    "mylist = [*a,*b] # *는 iterable 객체를 unpacking하는 의미 \n",
    "print(mylist)\n",
    "#x,y,z = *a ## 문법 오류\n",
    "#x,y,z = (*a) ##\n",
    "x,y,z = tuple(a)\n",
    "print(x,y,z)\n"
   ]
  },
  {
   "cell_type": "markdown",
   "metadata": {},
   "source": [
    "### 파이썬 사용자 정의 컨테이너 타입"
   ]
  },
  {
   "cell_type": "code",
   "execution_count": null,
   "metadata": {},
   "outputs": [
    {
     "name": "stdout",
     "output_type": "stream",
     "text": [
      "---인덱스 사용---\n",
      "__getitem__() 호출됨\n",
      "1\n",
      "---변경---\n",
      "__setitem__() 호출됨\n",
      "---출력---\n",
      "__repr__() 호출됨\n",
      "[1, 10, 3, 4]\n",
      "---삭제---\n",
      "__repr__() 호출됨\n",
      "[1, 10, 4]\n",
      "3\n"
     ]
    }
   ],
   "source": [
    "class MyList:\n",
    "    def __init__(self, initial_data):\n",
    "        # 초기 데이터를 리스트로 저장\n",
    "        self.data = list(initial_data)\n",
    "    \n",
    "    # 인덱스 접근을 위한 __getitem__ 메서드 구현\n",
    "    def __getitem__(self, index): ### 머신러닝에서 사용됨 \n",
    "        print(\"__getitem__() 호출됨\")\n",
    "        return self.data[index]\n",
    "    \n",
    "    # 인덱스를 통해 값을 설정하는 __setitem__ 메서드 구현\n",
    "    def __setitem__(self, index, value):\n",
    "        print(\"__setitem__() 호출됨\")\n",
    "        self.data[index] = value\n",
    "    \n",
    "    # 인덱스를 통해 값을 삭제하는 __delitem__ 메서드 구현\n",
    "    def __delitem__(self, index):\n",
    "        del self.data[index]\n",
    "    \n",
    "    # len() 함수가 작동하도록 __len__ 메서드 구현\n",
    "    def __len__(self):\n",
    "        return len(self.data)\n",
    "    \n",
    "    # 출력할 때 인스턴스의 리스트 데이터를 보여주기 위한 __repr__ 메서드 구현\n",
    "    def __repr__(self):\n",
    "        print(\"__repr__() 호출됨\")\n",
    "        return repr(self.data)\n",
    "\n",
    "# 사용 예시\n",
    "my_list = MyList([1, 2, 3, 4])\n",
    "print('---인덱스 사용---')\n",
    "# 배열처럼 접근\n",
    "print(my_list[0])  # 1 - def __getitem__(self, index):\n",
    "\n",
    "print('---변경---')\n",
    "# 배열처럼 값 변경\n",
    "my_list[1] = 10 # def __setitem__(self, index, value):\n",
    "print('---출력---')\n",
    "print(my_list)  # [1, 10, 3, 4]\n",
    "\n",
    "print('---삭제---')\n",
    "# 배열처럼 값 삭제\n",
    "del my_list[2]\n",
    "print(my_list)  # [1, 10, 4]\n",
    "\n",
    "# 배열의 길이 확인\n",
    "print(len(my_list))  # 3"
   ]
  },
  {
   "cell_type": "code",
   "execution_count": 11,
   "metadata": {},
   "outputs": [
    {
     "name": "stdout",
     "output_type": "stream",
     "text": [
      "Alice\n",
      "30\n",
      "{'name': 'Alice', 'age': 30}\n",
      "{'name': 'Alice'}\n"
     ]
    }
   ],
   "source": [
    "class MyDict:\n",
    "    def __init__(self):\n",
    "        self.data = {}\n",
    "\n",
    "    def __getitem__(self, key):\n",
    "        return self.data[key]\n",
    "\n",
    "    def __setitem__(self, key, value):\n",
    "        self.data[key] = value\n",
    "\n",
    "    def __delitem__(self, key):\n",
    "        del self.data[key]\n",
    "\n",
    "    def __repr__(self):\n",
    "        return repr(self.data)\n",
    "\n",
    "# MyDict 객체 생성\n",
    "d = MyDict()\n",
    "\n",
    "# __setitem__ 호출 예제: 항목 추가\n",
    "d['name'] = 'Alice'   # → d.__setitem__('name', 'Alice')가 호출됨\n",
    "d['age'] = 30         # → d.__setitem__('age', 30)\n",
    "\n",
    "# __getitem__ 호출 예제: 항목 조회\n",
    "print(d['name'])      # → d.__getitem__('name') 호출됨 → 출력: Alice\n",
    "print(d['age'])       # → d.__getitem__('age') 호출됨 → 출력: 30\n",
    "\n",
    "# __repr__ 호출 예제: 객체 전체 출력\n",
    "print(d)              # → d.__repr__() 호출됨 → 출력: {'name': 'Alice', 'age': 30}\n",
    "\n",
    "# __delitem__ 호출 예제: 항목 삭제\n",
    "del d['age']          # → d.__delitem__('age') 호출됨\n",
    "\n",
    "# 다시 객체 출력 (__repr__)\n",
    "print(d)              # 출력: {'name': 'Alice'}\n"
   ]
  }
 ],
 "metadata": {
  "kernelspec": {
   "display_name": "Python 3",
   "language": "python",
   "name": "python3"
  },
  "language_info": {
   "codemirror_mode": {
    "name": "ipython",
    "version": 3
   },
   "file_extension": ".py",
   "mimetype": "text/x-python",
   "name": "python",
   "nbconvert_exporter": "python",
   "pygments_lexer": "ipython3",
   "version": "3.9.13"
  }
 },
 "nbformat": 4,
 "nbformat_minor": 2
}
