{
 "cells": [
  {
   "cell_type": "code",
   "execution_count": 9,
   "id": "3ef5c54b",
   "metadata": {},
   "outputs": [],
   "source": [
    "f = open('Number.txt', 'r', encoding= 'utf8')\n",
    "f.readline().rstrip()\n",
    "f.close()"
   ]
  },
  {
   "cell_type": "code",
   "execution_count": 13,
   "id": "71a2daeb",
   "metadata": {},
   "outputs": [
    {
     "name": "stdout",
     "output_type": "stream",
     "text": [
      "1\n",
      "2\n",
      "3\n",
      "5\n",
      "3\n",
      "4\n",
      "2\n"
     ]
    }
   ],
   "source": [
    "with open('Number.txt', 'r') as f:\n",
    "    for line in f:\n",
    "        print(line.rstrip())"
   ]
  },
  {
   "cell_type": "code",
   "execution_count": 14,
   "id": "08167efc",
   "metadata": {},
   "outputs": [
    {
     "name": "stdout",
     "output_type": "stream",
     "text": [
      "['1\\n', '2\\n', '3\\n', '5\\n', '3\\n', '4\\n', '2\\n']\n",
      "\n"
     ]
    }
   ],
   "source": [
    "with open('Number.txt', 'r') as f:\n",
    "    print(f.readlines())\n",
    "    print(f.read())"
   ]
  },
  {
   "cell_type": "code",
   "execution_count": 18,
   "id": "4414dc02",
   "metadata": {},
   "outputs": [],
   "source": [
    "file = open('Number2.txt', 'w')\n",
    "file.write('1')\n",
    "file.close()"
   ]
  },
  {
   "cell_type": "code",
   "execution_count": 20,
   "id": "3fd5b0cb",
   "metadata": {},
   "outputs": [
    {
     "data": {
      "text/plain": [
       "5"
      ]
     },
     "execution_count": 20,
     "metadata": {},
     "output_type": "execute_result"
    }
   ],
   "source": [
    "file = open('Number2.txt', 'w')\n",
    "answer = ['1', '2','3']\n",
    "contents = '\\n'.join(answer)\n",
    "file.write(contents)"
   ]
  },
  {
   "cell_type": "code",
   "execution_count": 22,
   "id": "a309666a",
   "metadata": {},
   "outputs": [
    {
     "data": {
      "text/plain": [
       "['1', '2', '3', '5', '3', '4', '2']"
      ]
     },
     "execution_count": 22,
     "metadata": {},
     "output_type": "execute_result"
    }
   ],
   "source": [
    "from pathlib import Path\n",
    "p = Path('data/Number.txt')\n",
    "p.read_text().split()"
   ]
  },
  {
   "cell_type": "code",
   "execution_count": null,
   "id": "c616ccf3",
   "metadata": {},
   "outputs": [],
   "source": [
    "from pathlib import Path\n",
    "p = Path('data/Number.txt')\n",
    "answer = ['1','2','3']\n",
    "contents = '\\n'.join(answer)\n",
    "p.read_text().split()"
   ]
  },
  {
   "cell_type": "code",
   "execution_count": 25,
   "id": "0c215c27",
   "metadata": {},
   "outputs": [
    {
     "name": "stdout",
     "output_type": "stream",
     "text": [
      "FileNotFoundError [Errno 2] No such file or directory: 'Number5.txt'\n",
      "Error!\n"
     ]
    }
   ],
   "source": [
    "try:\n",
    "    with open('Number5.txt', 'r') as f:\n",
    "        f.read()\n",
    "except FileNotFoundError as e:\n",
    "    print('FileNotFoundError', e)\n",
    "    print('Error!')\n",
    "except Exception as e:\n",
    "    print('Unknown Error!')\n",
    "\n",
    "with open('Number2.txt', 'r') as f:\n",
    "\n",
    "    f.read()"
   ]
  },
  {
   "cell_type": "code",
   "execution_count": null,
   "id": "d4062a80",
   "metadata": {},
   "outputs": [],
   "source": [
    "def add (a,b):\n",
    "    raise FileNotFoundError('Hello')\n",
    "\n",
    "def main():\n",
    "    add(1,2)"
   ]
  },
  {
   "cell_type": "code",
   "execution_count": 29,
   "id": "0ac22a33",
   "metadata": {},
   "outputs": [
    {
     "ename": "TypeError",
     "evalue": "unsupported operand type(s) for +: 'int' and 'str'",
     "output_type": "error",
     "traceback": [
      "\u001b[1;31m---------------------------------------------------------------------------\u001b[0m",
      "\u001b[1;31mTypeError\u001b[0m                                 Traceback (most recent call last)",
      "Cell \u001b[1;32mIn[29], line 10\u001b[0m\n\u001b[0;32m      8\u001b[0m \u001b[38;5;28;01mfor\u001b[39;00m line \u001b[38;5;129;01min\u001b[39;00m file:\n\u001b[0;32m      9\u001b[0m     name,java,python \u001b[38;5;241m=\u001b[39m line[\u001b[38;5;241m0\u001b[39m], line[\u001b[38;5;241m1\u001b[39m], line[\u001b[38;5;241m2\u001b[39m]\n\u001b[1;32m---> 10\u001b[0m     students[name] \u001b[38;5;241m=\u001b[39m \u001b[38;5;28;43msum\u001b[39;49m\u001b[43m(\u001b[49m\u001b[43m[\u001b[49m\u001b[43mjava\u001b[49m\u001b[43m,\u001b[49m\u001b[43m \u001b[49m\u001b[43mpython\u001b[49m\u001b[43m]\u001b[49m\u001b[43m)\u001b[49m \u001b[38;5;241m/\u001b[39m \u001b[38;5;241m2\u001b[39m\n\u001b[0;32m     11\u001b[0m     subjects[\u001b[38;5;124m'\u001b[39m\u001b[38;5;124mjava\u001b[39m\u001b[38;5;124m'\u001b[39m] \u001b[38;5;241m=\u001b[39m subjects\u001b[38;5;241m.\u001b[39mget(\u001b[38;5;124m'\u001b[39m\u001b[38;5;124mjava\u001b[39m\u001b[38;5;124m'\u001b[39m,\u001b[38;5;241m0\u001b[39m) \u001b[38;5;241m+\u001b[39m java\n\u001b[0;32m     12\u001b[0m     subjects[\u001b[38;5;124m'\u001b[39m\u001b[38;5;124mpython\u001b[39m\u001b[38;5;124m'\u001b[39m] \u001b[38;5;241m=\u001b[39m subjects\u001b[38;5;241m.\u001b[39mget(\u001b[38;5;124m'\u001b[39m\u001b[38;5;124mpython\u001b[39m\u001b[38;5;124m'\u001b[39m,\u001b[38;5;241m0\u001b[39m) \u001b[38;5;241m+\u001b[39m python\n",
      "\u001b[1;31mTypeError\u001b[0m: unsupported operand type(s) for +: 'int' and 'str'"
     ]
    }
   ],
   "source": [
    "import csv\n",
    "\n",
    "with open('grade.csv', 'r') as f:\n",
    "    file = csv.reader(f)\n",
    "    students = {}\n",
    "    subjects = []\n",
    "    headers = next(file)\n",
    "    for line in file:\n",
    "        name,java,python = line[0], line[1], line[2]\n",
    "        students[name] = sum([java, python]) / 2\n",
    "        subjects['java'] = subjects.get('java',0) + java\n",
    "        subjects['python'] = subjects.get('python',0) + python\n",
    "        print(line)"
   ]
  },
  {
   "cell_type": "code",
   "execution_count": null,
   "id": "2233dbf1",
   "metadata": {},
   "outputs": [],
   "source": [
    "# 개별 평균\n",
    "\n",
    "\n",
    "#과목별 평균"
   ]
  },
  {
   "cell_type": "code",
   "execution_count": 34,
   "id": "5267cd24",
   "metadata": {},
   "outputs": [
    {
     "data": {
      "text/html": [
       "<div>\n",
       "<style scoped>\n",
       "    .dataframe tbody tr th:only-of-type {\n",
       "        vertical-align: middle;\n",
       "    }\n",
       "\n",
       "    .dataframe tbody tr th {\n",
       "        vertical-align: top;\n",
       "    }\n",
       "\n",
       "    .dataframe thead th {\n",
       "        text-align: right;\n",
       "    }\n",
       "</style>\n",
       "<table border=\"1\" class=\"dataframe\">\n",
       "  <thead>\n",
       "    <tr style=\"text-align: right;\">\n",
       "      <th></th>\n",
       "      <th>name</th>\n",
       "      <th>java</th>\n",
       "      <th>python</th>\n",
       "    </tr>\n",
       "  </thead>\n",
       "  <tbody>\n",
       "    <tr>\n",
       "      <th>0</th>\n",
       "      <td>kim</td>\n",
       "      <td>90</td>\n",
       "      <td>80</td>\n",
       "    </tr>\n",
       "    <tr>\n",
       "      <th>1</th>\n",
       "      <td>june</td>\n",
       "      <td>70</td>\n",
       "      <td>90</td>\n",
       "    </tr>\n",
       "    <tr>\n",
       "      <th>2</th>\n",
       "      <td>young</td>\n",
       "      <td>100</td>\n",
       "      <td>40</td>\n",
       "    </tr>\n",
       "  </tbody>\n",
       "</table>\n",
       "</div>"
      ],
      "text/plain": [
       "    name  java  python\n",
       "0    kim    90      80\n",
       "1   june    70      90\n",
       "2  young   100      40"
      ]
     },
     "execution_count": 34,
     "metadata": {},
     "output_type": "execute_result"
    }
   ],
   "source": [
    "import pandas as pd\n",
    "\n",
    "df = pd.read_csv('grade.csv')\n",
    "df.head()"
   ]
  },
  {
   "cell_type": "code",
   "execution_count": 35,
   "id": "28f7c23f",
   "metadata": {},
   "outputs": [
    {
     "data": {
      "text/plain": [
       "name      kimjuneyoung\n",
       "java               260\n",
       "python             210\n",
       "dtype: object"
      ]
     },
     "execution_count": 35,
     "metadata": {},
     "output_type": "execute_result"
    }
   ],
   "source": [
    "df.sum(axis=0)"
   ]
  },
  {
   "cell_type": "code",
   "execution_count": 37,
   "id": "5df93de4",
   "metadata": {},
   "outputs": [
    {
     "data": {
      "text/html": [
       "<div>\n",
       "<style scoped>\n",
       "    .dataframe tbody tr th:only-of-type {\n",
       "        vertical-align: middle;\n",
       "    }\n",
       "\n",
       "    .dataframe tbody tr th {\n",
       "        vertical-align: top;\n",
       "    }\n",
       "\n",
       "    .dataframe thead th {\n",
       "        text-align: right;\n",
       "    }\n",
       "</style>\n",
       "<table border=\"1\" class=\"dataframe\">\n",
       "  <thead>\n",
       "    <tr style=\"text-align: right;\">\n",
       "      <th></th>\n",
       "      <th>java</th>\n",
       "      <th>python</th>\n",
       "    </tr>\n",
       "  </thead>\n",
       "  <tbody>\n",
       "    <tr>\n",
       "      <th>count</th>\n",
       "      <td>3.000000</td>\n",
       "      <td>3.000000</td>\n",
       "    </tr>\n",
       "    <tr>\n",
       "      <th>mean</th>\n",
       "      <td>86.666667</td>\n",
       "      <td>70.000000</td>\n",
       "    </tr>\n",
       "    <tr>\n",
       "      <th>std</th>\n",
       "      <td>15.275252</td>\n",
       "      <td>26.457513</td>\n",
       "    </tr>\n",
       "    <tr>\n",
       "      <th>min</th>\n",
       "      <td>70.000000</td>\n",
       "      <td>40.000000</td>\n",
       "    </tr>\n",
       "    <tr>\n",
       "      <th>25%</th>\n",
       "      <td>80.000000</td>\n",
       "      <td>60.000000</td>\n",
       "    </tr>\n",
       "    <tr>\n",
       "      <th>50%</th>\n",
       "      <td>90.000000</td>\n",
       "      <td>80.000000</td>\n",
       "    </tr>\n",
       "    <tr>\n",
       "      <th>75%</th>\n",
       "      <td>95.000000</td>\n",
       "      <td>85.000000</td>\n",
       "    </tr>\n",
       "    <tr>\n",
       "      <th>max</th>\n",
       "      <td>100.000000</td>\n",
       "      <td>90.000000</td>\n",
       "    </tr>\n",
       "  </tbody>\n",
       "</table>\n",
       "</div>"
      ],
      "text/plain": [
       "             java     python\n",
       "count    3.000000   3.000000\n",
       "mean    86.666667  70.000000\n",
       "std     15.275252  26.457513\n",
       "min     70.000000  40.000000\n",
       "25%     80.000000  60.000000\n",
       "50%     90.000000  80.000000\n",
       "75%     95.000000  85.000000\n",
       "max    100.000000  90.000000"
      ]
     },
     "execution_count": 37,
     "metadata": {},
     "output_type": "execute_result"
    }
   ],
   "source": [
    "df.describe()"
   ]
  },
  {
   "cell_type": "markdown",
   "id": "71f0247e",
   "metadata": {},
   "source": [
    "## Json"
   ]
  },
  {
   "cell_type": "code",
   "execution_count": 38,
   "id": "ab1e2fc3",
   "metadata": {},
   "outputs": [],
   "source": [
    "import json"
   ]
  },
  {
   "cell_type": "code",
   "execution_count": 40,
   "id": "9e7d7d52",
   "metadata": {},
   "outputs": [],
   "source": [
    "lst= [1,2,3]\n",
    "\n",
    "contents = json.dumps(lst)"
   ]
  },
  {
   "cell_type": "code",
   "execution_count": 42,
   "id": "b3cf0ea8",
   "metadata": {},
   "outputs": [
    {
     "data": {
      "text/plain": [
       "list"
      ]
     },
     "execution_count": 42,
     "metadata": {},
     "output_type": "execute_result"
    }
   ],
   "source": [
    "request = json.loads(contents)\n",
    "type(request)"
   ]
  },
  {
   "cell_type": "code",
   "execution_count": 43,
   "id": "2f4c8524",
   "metadata": {},
   "outputs": [],
   "source": [
    "import json"
   ]
  },
  {
   "cell_type": "code",
   "execution_count": 47,
   "id": "24bdb96a",
   "metadata": {},
   "outputs": [
    {
     "data": {
      "text/plain": [
       "'{\"name\": [\"kim\", \"june\", \"young\"], \"java\": [90, 70, 100], \"python\": [80, 90, 40]}'"
      ]
     },
     "execution_count": 47,
     "metadata": {},
     "output_type": "execute_result"
    }
   ],
   "source": [
    "\n",
    "\n",
    "data = {'kim' : [90,80],\n",
    "        'june': [70,90],\n",
    "        'young' : [100,40]}\n",
    "\n",
    "data= {\n",
    "    'name' : ['kim', 'june' ,'young'],\n",
    "    'java' : [90, 70, 100],\n",
    "    'python' : [80,90,40],\n",
    "}\n",
    "\n",
    "response = json.dumps(data)\n",
    "response"
   ]
  },
  {
   "cell_type": "code",
   "execution_count": 48,
   "id": "15dca616",
   "metadata": {},
   "outputs": [],
   "source": [
    "import pickle\n",
    "\n",
    "with open('data.bin', 'wb') as f:\n",
    "    pickle.dump(data, f)"
   ]
  },
  {
   "cell_type": "code",
   "execution_count": null,
   "id": "a0083611",
   "metadata": {},
   "outputs": [
    {
     "name": "stdout",
     "output_type": "stream",
     "text": [
      "data.json 파일이 보기 좋은 형태로 저장되었습니다.\n"
     ]
    }
   ],
   "source": [
    "import json\n",
    "\n",
    "data= {\n",
    "    'name' : ['kim', 'june' ,'young'],\n",
    "    'java' : [90, 70, 100],\n",
    "    'python' : [80,90,40],\n",
    "}\n",
    "\n",
    "with open('data.json', 'w') as f:\n",
    "    json.dump(f)"
   ]
  },
  {
   "cell_type": "code",
   "execution_count": null,
   "id": "44cd3537",
   "metadata": {},
   "outputs": [
    {
     "ename": "IndentationError",
     "evalue": "expected an indented block (1305596858.py, line 4)",
     "output_type": "error",
     "traceback": [
      "\u001b[1;36m  Cell \u001b[1;32mIn[50], line 4\u001b[1;36m\u001b[0m\n\u001b[1;33m    reader = csv.DictReader(f)\u001b[0m\n\u001b[1;37m    ^\u001b[0m\n\u001b[1;31mIndentationError\u001b[0m\u001b[1;31m:\u001b[0m expected an indented block\n"
     ]
    }
   ],
   "source": [
    "import csv\n",
    "\n",
    "with open('data.json', 'r') as f:\n",
    "reader = csv.DictReader(f)\n",
    "    for line in reader:\n",
    "        print(line['name'])"
   ]
  },
  {
   "cell_type": "code",
   "execution_count": null,
   "id": "a2555886",
   "metadata": {},
   "outputs": [],
   "source": []
  },
  {
   "cell_type": "code",
   "execution_count": null,
   "id": "f8a1ffc0",
   "metadata": {},
   "outputs": [],
   "source": []
  },
  {
   "cell_type": "code",
   "execution_count": null,
   "id": "00e472ba",
   "metadata": {},
   "outputs": [],
   "source": []
  },
  {
   "cell_type": "code",
   "execution_count": null,
   "id": "4cbfc1df",
   "metadata": {},
   "outputs": [],
   "source": []
  },
  {
   "cell_type": "code",
   "execution_count": null,
   "id": "54cdc7e5",
   "metadata": {},
   "outputs": [],
   "source": []
  }
 ],
 "metadata": {
  "kernelspec": {
   "display_name": "Python 3",
   "language": "python",
   "name": "python3"
  },
  "language_info": {
   "codemirror_mode": {
    "name": "ipython",
    "version": 3
   },
   "file_extension": ".py",
   "mimetype": "text/x-python",
   "name": "python",
   "nbconvert_exporter": "python",
   "pygments_lexer": "ipython3",
   "version": "3.9.13"
  }
 },
 "nbformat": 4,
 "nbformat_minor": 5
}
