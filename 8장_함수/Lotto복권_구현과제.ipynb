{
 "cells": [
  {
   "cell_type": "code",
   "execution_count": 1,
   "id": "62e3e295",
   "metadata": {},
   "outputs": [
    {
     "ename": "IndentationError",
     "evalue": "expected an indented block (4046347509.py, line 16)",
     "output_type": "error",
     "traceback": [
      "\u001b[1;36m  Cell \u001b[1;32mIn[1], line 16\u001b[1;36m\u001b[0m\n\u001b[1;33m    def run_lotto_simulation(n):\u001b[0m\n\u001b[1;37m    ^\u001b[0m\n\u001b[1;31mIndentationError\u001b[0m\u001b[1;31m:\u001b[0m expected an indented block\n"
     ]
    }
   ],
   "source": [
    "import random\n",
    "\n",
    "# 6개 번호만 발행\n",
    "def generate_lotto_ticket():\n",
    "    return sorted(random.sample(range(1, 46), 6))\n",
    "\n",
    "# 당첨번호(6개) + 보너스번호(중복 제외)\n",
    "def generate_winning_numbers():\n",
    "\n",
    "    return main, bonus\n",
    "\n",
    "# 당첨 판별\n",
    "def check_winning_rank(ticket, winning_main, bonus):\n",
    "\n",
    "# 시뮬레이션 실행\n",
    "def run_lotto_simulation(n):\n",
    "    winning_main, bonus = generate_winning_numbers()\n",
    "    print(\"■ 당첨 번호:\", winning_main, \"+ 보너스:\", bonus)\n",
    "    \n",
    "    results = {\"1등\":0, \"2등\":0, \"3등\":0, \"4등\":0, \"5등\":0, \"꽝\":0}\n",
    "    \n",
    "    for i in range(n):\n",
    "        ticket = generate_lotto_ticket()\n",
    "        rank = check_winning_rank(ticket, winning_main, bonus)\n",
    "        results[rank] += 1\n",
    "        print(f\"{i+1}번 복권: {ticket} → {rank}\")\n",
    "    \n",
    "    print(\"\\n📊 최종 당첨 통계:\")\n",
    "    for k, v in results.items():\n",
    "        print(f\"{k}: {v}장 ({v/n*100:.2f}%)\")\n",
    "\n",
    "# 실행 예시\n",
    "# 스크립트 실행 진입점을 정의\n",
    "if __name__ == \"__main__\": # 현재 파일이 직접 실행되는 경우에만 아래 내용을 실행하라는 의미\n",
    "    try:\n",
    "        count = int(input(\"발행할 로또 복권 개수 입력: \"))\n",
    "        run_lotto_simulation(count)\n",
    "    except:\n",
    "        print(\"올바른 숫자를 입력하세요.\")\n"
   ]
  }
 ],
 "metadata": {
  "kernelspec": {
   "display_name": "Python 3",
   "language": "python",
   "name": "python3"
  },
  "language_info": {
   "codemirror_mode": {
    "name": "ipython",
    "version": 3
   },
   "file_extension": ".py",
   "mimetype": "text/x-python",
   "name": "python",
   "nbconvert_exporter": "python",
   "pygments_lexer": "ipython3",
   "version": "3.9.13"
  }
 },
 "nbformat": 4,
 "nbformat_minor": 5
}
